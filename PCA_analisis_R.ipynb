{
 "cells": [
  {
   "cell_type": "markdown",
   "metadata": {},
   "source": [
    "#### 📊 **Análisis de Componentes Principales (PCA) en R**\n",
    "\n",
    "**Profesora: Rocío Leonel Gómez** \n",
    "\n",
    "**Alumna:** Alejandra Quetzal González Pineda\n",
    "\n",
    "---\n",
    "\n",
    "Este notebook muestra paso a paso cómo realizar PCA en R, tanto manualmente como con `prcomp()`."
   ]
  },
  {
   "cell_type": "markdown",
   "metadata": {},
   "source": [
    "Paso 0: Matriz Original: Se parte de la matriz de datos dada.\n",
    "\n",
    "Paso 1:Normalización: Se estandariza la matriz para que cada columna tenga media 0 y desviación estándar 1.\n",
    "\n",
    "Paso 2:Cálculo de la Matriz de Covarianza: Se calcula la matriz de covarianza de los datos normalizados.\n",
    "\n",
    "Paso 3:Cálculo de Valores y Vectores Propios: Se obtienen los valores propios y vectores propios de la matriz de covarianza.\n",
    "\n",
    "Paso 4:Ordenación de Valores Propios: Se ordenan en orden descendente para identificar las componentes principales más importantes.\n",
    "\n",
    "Paso 5: Selección de los Componentes Principales: Se eligen los primeros dos vectores propios.\n",
    "\n",
    "Paso 6: Transformación de Datos: Se proyectan los datos originales en el nuevo espacio definido por las componentes principales."
   ]
  },
  {
   "cell_type": "markdown",
   "metadata": {},
   "source": [
    "#### **Paso 0: Matriz Original**\n"
   ]
  },
  {
   "cell_type": "code",
   "execution_count": 1,
   "metadata": {
    "vscode": {
     "languageId": "r"
    }
   },
   "outputs": [
    {
     "name": "stdout",
     "output_type": "stream",
     "text": [
      "[1] \"Matriz Original:\"\n",
      "  X1 X2 X3 X4\n",
      "1 12  5 23  8\n",
      "2  7 15  3 19\n",
      "3  4 11 16  2\n"
     ]
    }
   ],
   "source": [
    "# Definir los datos\n",
    "A <- data.frame(\n",
    "  X1 = c(12, 7, 4),\n",
    "  X2 = c(5, 15, 11),\n",
    "  X3 = c(23, 3, 16),\n",
    "  X4 = c(8, 19, 2)\n",
    ")\n",
    "\n",
    "# Mostrar la matriz original\n",
    "print(\"Matriz Original:\")\n",
    "print(A)"
   ]
  },
  {
   "cell_type": "markdown",
   "metadata": {},
   "source": [
    "#### **Paso 1: Normalización**\n"
   ]
  },
  {
   "cell_type": "code",
   "execution_count": 2,
   "metadata": {
    "vscode": {
     "languageId": "r"
    }
   },
   "outputs": [
    {
     "name": "stdout",
     "output_type": "stream",
     "text": [
      "[1] \"Matriz Normalizada:\"\n",
      "             X1         X2         X3         X4\n",
      "[1,]  1.0722219 -1.0596259  0.8867964 -0.1933112\n",
      "[2,] -0.1649572  0.9271726 -1.0838622  1.0825425\n",
      "[3,] -0.9072647  0.1324532  0.1970659 -0.8892314\n",
      "attr(,\"scaled:center\")\n",
      "       X1        X2        X3        X4 \n",
      " 7.666667 10.333333 14.000000  9.666667 \n",
      "attr(,\"scaled:scale\")\n",
      "       X1        X2        X3        X4 \n",
      " 4.041452  5.033223 10.148892  8.621678 \n"
     ]
    }
   ],
   "source": [
    "# Normalización de los datos\n",
    "A_scaled <- scale(A)\n",
    "\n",
    "# Mostrar matriz normalizada\n",
    "print(\"Matriz Normalizada:\")\n",
    "print(A_scaled)"
   ]
  },
  {
   "cell_type": "markdown",
   "metadata": {},
   "source": [
    "#### **Paso 2: Cálculo de la Matriz de Covarianza**\n"
   ]
  },
  {
   "cell_type": "code",
   "execution_count": 3,
   "metadata": {
    "vscode": {
     "languageId": "r"
    }
   },
   "outputs": [
    {
     "name": "stdout",
     "output_type": "stream",
     "text": [
      "[1] \"Matriz de Covarianza:\"\n",
      "           X1         X2         X3         X4\n",
      "X1  1.0000000 -0.7046340  0.4754212  0.2104613\n",
      "X2 -0.7046340  1.0000000 -0.9592489  0.5453799\n",
      "X3  0.4754212 -0.9592489  1.0000000 -0.7599959\n",
      "X4  0.2104613  0.5453799 -0.7599959  1.0000000\n"
     ]
    }
   ],
   "source": [
    "# Cálculo de la matriz de covarianza\n",
    "cov_matrix <- cov(A_scaled)\n",
    "\n",
    "# Mostrar matriz de covarianza\n",
    "print(\"Matriz de Covarianza:\")\n",
    "print(cov_matrix)"
   ]
  },
  {
   "cell_type": "markdown",
   "metadata": {},
   "source": [
    "#### **Paso 3: Cálculo de Valores y Vectores Propios**\n"
   ]
  },
  {
   "cell_type": "code",
   "execution_count": 4,
   "metadata": {
    "vscode": {
     "languageId": "r"
    }
   },
   "outputs": [
    {
     "name": "stdout",
     "output_type": "stream",
     "text": [
      "[1] \"Valores Propios:\"\n",
      "[1]  2.749680e+00  1.250320e+00  2.220446e-15 -2.220446e-16\n",
      "[1] \"Vectores Propios:\"\n",
      "           [,1]       [,2]       [,3]      [,4]\n",
      "[1,]  0.3539522  0.7240697  0.5919804 0.0000000\n",
      "[2,] -0.5958609 -0.1377517  0.5247608 0.5921151\n",
      "[3,]  0.5978260 -0.1175454 -0.2136739 0.7636299\n",
      "[4,] -0.4028295  0.6655303 -0.5731742 0.2574279\n"
     ]
    }
   ],
   "source": [
    "# Cálculo de valores y vectores propios\n",
    "eig <- eigen(cov_matrix)\n",
    "valores_propios <- eig$values\n",
    "vectores_propios <- eig$vectors\n",
    "\n",
    "# Mostrar valores propios\n",
    "print(\"Valores Propios:\")\n",
    "print(valores_propios)\n",
    "\n",
    "# Mostrar vectores propios\n",
    "print(\"Vectores Propios:\")\n",
    "print(vectores_propios)"
   ]
  },
  {
   "cell_type": "markdown",
   "metadata": {},
   "source": [
    "#### **Paso 4: Ordenación de Valores Propios**\n"
   ]
  },
  {
   "cell_type": "code",
   "execution_count": 5,
   "metadata": {
    "vscode": {
     "languageId": "r"
    }
   },
   "outputs": [
    {
     "name": "stdout",
     "output_type": "stream",
     "text": [
      "[1] \"Valores Propios Ordenados:\"\n",
      "[1]  2.749680e+00  1.250320e+00  2.220446e-15 -2.220446e-16\n",
      "[1] \"Vectores Propios Ordenados:\"\n",
      "           [,1]       [,2]       [,3]      [,4]\n",
      "[1,]  0.3539522  0.7240697  0.5919804 0.0000000\n",
      "[2,] -0.5958609 -0.1377517  0.5247608 0.5921151\n",
      "[3,]  0.5978260 -0.1175454 -0.2136739 0.7636299\n",
      "[4,] -0.4028295  0.6655303 -0.5731742 0.2574279\n"
     ]
    }
   ],
   "source": [
    "# Ordenar valores propios en orden descendente\n",
    "orden <- order(valores_propios, decreasing = TRUE)\n",
    "valores_propios <- valores_propios[orden]\n",
    "vectores_propios <- vectores_propios[, orden]\n",
    "\n",
    "# Mostrar valores propios ordenados\n",
    "print(\"Valores Propios Ordenados:\")\n",
    "print(valores_propios)\n",
    "\n",
    "# Mostrar vectores propios ordenados\n",
    "print(\"Vectores Propios Ordenados:\")\n",
    "print(vectores_propios)"
   ]
  },
  {
   "cell_type": "markdown",
   "metadata": {},
   "source": [
    "#### **Paso 5: Selección de Componentes Principales**\n"
   ]
  },
  {
   "cell_type": "code",
   "execution_count": 6,
   "metadata": {
    "vscode": {
     "languageId": "r"
    }
   },
   "outputs": [
    {
     "data": {
      "text/html": [
       "<table class=\"dataframe\">\n",
       "<caption>A matrix: 4 × 2 of type dbl</caption>\n",
       "<tbody>\n",
       "\t<tr><td> 0.3539522</td><td> 0.7240697</td></tr>\n",
       "\t<tr><td>-0.5958609</td><td>-0.1377517</td></tr>\n",
       "\t<tr><td> 0.5978260</td><td>-0.1175454</td></tr>\n",
       "\t<tr><td>-0.4028295</td><td> 0.6655303</td></tr>\n",
       "</tbody>\n",
       "</table>\n"
      ],
      "text/latex": [
       "A matrix: 4 × 2 of type dbl\n",
       "\\begin{tabular}{ll}\n",
       "\t  0.3539522 &  0.7240697\\\\\n",
       "\t -0.5958609 & -0.1377517\\\\\n",
       "\t  0.5978260 & -0.1175454\\\\\n",
       "\t -0.4028295 &  0.6655303\\\\\n",
       "\\end{tabular}\n"
      ],
      "text/markdown": [
       "\n",
       "A matrix: 4 × 2 of type dbl\n",
       "\n",
       "|  0.3539522 |  0.7240697 |\n",
       "| -0.5958609 | -0.1377517 |\n",
       "|  0.5978260 | -0.1175454 |\n",
       "| -0.4028295 |  0.6655303 |\n",
       "\n"
      ],
      "text/plain": [
       "     [,1]       [,2]      \n",
       "[1,]  0.3539522  0.7240697\n",
       "[2,] -0.5958609 -0.1377517\n",
       "[3,]  0.5978260 -0.1175454\n",
       "[4,] -0.4028295  0.6655303"
      ]
     },
     "metadata": {},
     "output_type": "display_data"
    }
   ],
   "source": [
    "# Seleccionar los primeros dos componentes principales\n",
    "componentes_principales <- vectores_propios[, 1:2]\n",
    "componentes_principales"
   ]
  },
  {
   "cell_type": "markdown",
   "metadata": {},
   "source": [
    "#### **Paso 6: Transformación de Datos**\n"
   ]
  },
  {
   "cell_type": "code",
   "execution_count": 7,
   "metadata": {
    "vscode": {
     "languageId": "r"
    }
   },
   "outputs": [
    {
     "name": "stdout",
     "output_type": "stream",
     "text": [
      "[1] \"Datos Transformados:\"\n",
      "             PC1        PC2\n",
      "[1,]  1.61892640  0.6894354\n",
      "[2,] -1.69489404  0.6007078\n",
      "[3,]  0.07596764 -1.2901432\n"
     ]
    }
   ],
   "source": [
    "# Transformar datos al nuevo espacio PCA\n",
    "datos_transformados <- A_scaled %*% componentes_principales\n",
    "colnames(datos_transformados) <- c(\"PC1\", \"PC2\")\n",
    "\n",
    "# Mostrar datos transformados\n",
    "print(\"Datos Transformados:\")\n",
    "print(datos_transformados)"
   ]
  },
  {
   "cell_type": "markdown",
   "metadata": {},
   "source": [
    "#### **Paso 7: Visualización**\n"
   ]
  },
  {
   "cell_type": "code",
   "execution_count": 11,
   "metadata": {
    "vscode": {
     "languageId": "r"
    }
   },
   "outputs": [
    {
     "data": {
      "image/png": "[encoded data removed]",
      "text/plain": [
       "plot without title"
      ]
     },
     "metadata": {
      "image/png": {
       "height": 420,
       "width": 420
      }
     },
     "output_type": "display_data"
    }
   ],
   "source": [
    "library(ggplot2)\n",
    "\n",
    "# Convertir a data frame para graficar\n",
    "pca_df <- as.data.frame(datos_transformados)\n",
    "\n",
    "# Crear gráfico de los primeros dos componentes principales\n",
    "ggplot(pca_df, aes(x = PC1, y = PC2)) +\n",
    "  geom_point() +\n",
    "  ggtitle(\"Análisis de Componentes Principales (PCA)\") +\n",
    "  xlab(\"Componente Principal 1\") +\n",
    "  ylab(\"Componente Principal 2\") +\n",
    "  theme_minimal()"
   ]
  },
  {
   "cell_type": "markdown",
   "metadata": {},
   "source": [
    "## **Comparación con `prcomp()`**\n"
   ]
  },
  {
   "cell_type": "code",
   "execution_count": 9,
   "metadata": {
    "vscode": {
     "languageId": "r"
    }
   },
   "outputs": [
    {
     "data": {
      "text/plain": [
       "Standard deviations (1, .., p=3):\n",
       "[1] 1.658216e+00 1.118177e+00 3.016167e-16\n",
       "\n",
       "Rotation (n x k) = (4 x 3):\n",
       "          PC1        PC2        PC3\n",
       "X1  0.3539522 -0.7240697 -0.5451875\n",
       "X2 -0.5958609  0.1377517 -0.7140098\n",
       "X3  0.5978260  0.1175454 -0.1007783\n",
       "X4 -0.4028295 -0.6655303  0.4275563"
      ]
     },
     "metadata": {},
     "output_type": "display_data"
    }
   ],
   "source": [
    "# Aplicar PCA con prcomp()\n",
    "pca_result <- prcomp(A, center = TRUE, scale. = TRUE)\n",
    "pca_result"
   ]
  },
  {
   "cell_type": "code",
   "execution_count": 10,
   "metadata": {
    "vscode": {
     "languageId": "r"
    }
   },
   "outputs": [
    {
     "data": {
      "text/plain": [
       "Importance of components:\n",
       "                          PC1    PC2       PC3\n",
       "Standard deviation     1.6582 1.1182 3.016e-16\n",
       "Proportion of Variance 0.6874 0.3126 0.000e+00\n",
       "Cumulative Proportion  0.6874 1.0000 1.000e+00"
      ]
     },
     "metadata": {},
     "output_type": "display_data"
    }
   ],
   "source": [
    "# Mostrar resumen\n",
    "summary(pca_result)"
   ]
  }
 ],
 "metadata": {
  "kernelspec": {
   "display_name": "R",
   "language": "R",
   "name": "ir"
  },
  "language_info": {
   "codemirror_mode": "r",
   "file_extension": ".r",
   "mimetype": "text/x-r-source",
   "name": "R",
   "pygments_lexer": "r",
   "version": "4.4.0"
  }
 },
 "nbformat": 4,
 "nbformat_minor": 4
}
