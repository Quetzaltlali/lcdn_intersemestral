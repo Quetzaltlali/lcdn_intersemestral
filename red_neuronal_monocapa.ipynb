{
 "cells": [
  {
   "cell_type": "markdown",
   "metadata": {},
   "source": [
    "Red Neuronal Monocapa\n",
    "\n",
    "Las redes neuronales monocapa, también conocidas como perceptrones, son una forma fundamental de inteligencia artificial que consta de una sola capa de neuronas interconectadas. "
   ]
  },
  {
   "cell_type": "markdown",
   "metadata": {},
   "source": [
    "Implementación en Python"
   ]
  },
  {
   "cell_type": "code",
   "execution_count": 1,
   "metadata": {},
   "outputs": [],
   "source": [
    "import random"
   ]
  },
  {
   "cell_type": "code",
   "execution_count": 2,
   "metadata": {},
   "outputs": [],
   "source": [
    "# Datos de entrenamiento\n",
    "X = [1, 2, 3, 4, 5]  # Datos de entrada\n",
    "y = [2, 4, 6, 8, 10]  # Datos de salida"
   ]
  },
  {
   "cell_type": "code",
   "execution_count": 3,
   "metadata": {},
   "outputs": [],
   "source": [
    "#Definimos el peso \n",
    "\n",
    "w = random.uniform(0, 1)  # Peso inicial\n",
    "b = random.uniform(0, 1)  # Sesgo inicial\n",
    "lr = 0.01  # Tasa de aprendizaje"
   ]
  },
  {
   "cell_type": "code",
   "execution_count": 5,
   "metadata": {},
   "outputs": [],
   "source": [
    "epochs = 100  #Definimos el número de épocas para realizar el entrenamiento."
   ]
  },
  {
   "cell_type": "code",
   "execution_count": 7,
   "metadata": {},
   "outputs": [
    {
     "name": "stdout",
     "output_type": "stream",
     "text": [
      "Época 100, MSE: -0.04265960268121275767\n",
      "Peso (w): 1.9377118613886097\n",
      "Sesgo (b): 0.24281802526942203\n"
     ]
    }
   ],
   "source": [
    "#Entrenamiento\n",
    "for epoch in range(epochs):\n",
    "    total_error = 0\n",
    "    for i in range(len(X)):\n",
    "        # Predicción de la neurona\n",
    "        y_pred = w * X[i] + b\n",
    "\n",
    "        # Cálculo del error\n",
    "        error = y[i] - y_pred\n",
    "\n",
    "        # Actualización de pesos y sesgo\n",
    "        w += lr * error * X[i]\n",
    "        b += lr * error\n",
    "\n",
    "        total_error += error\n",
    "\n",
    "    # Calcular el error cuadrático medio (MSE) promedio\n",
    "    mse = total_error / len(X)\n",
    "\n",
    "    # Mostrar el progreso\n",
    "    if (epoch + 1) % 100 == 0:\n",
    "        _mse = \"{:.20f}\".format(mse)\n",
    "        print(f'Época {epoch + 1}, MSE: {_mse}')\n",
    "\n",
    "# Resultado final\n",
    "print(f'Peso (w): {w}')\n",
    "print(f'Sesgo (b): {b}')"
   ]
  },
  {
   "cell_type": "code",
   "execution_count": 8,
   "metadata": {},
   "outputs": [
    {
     "name": "stdout",
     "output_type": "stream",
     "text": [
      "Entrada: 6, Predicción: 11.86908919360108\n",
      "Entrada: 7, Predicción: 13.80680105498969\n",
      "Entrada: 8, Predicción: 15.7445129163783\n",
      "Entrada: 9, Predicción: 17.68222477776691\n",
      "Entrada: 10, Predicción: 19.61993663915552\n"
     ]
    }
   ],
   "source": [
    "#Comprobamos el comportamiento con valores distintos a los que entreno nuestro modelo.\n",
    "# Nuevos datos de prueba\n",
    "X_test = [6, 7, 8, 9, 10]\n",
    "\n",
    "# Realizar predicciones con el modelo entrenado\n",
    "predictions = [w * x + b for x in X_test]\n",
    "\n",
    "# Imprimir las predicciones\n",
    "for i in range(len(X_test)):\n",
    "    print(f'Entrada: {X_test[i]}, Predicción: {predictions[i]}')"
   ]
  }
 ],
 "metadata": {
  "kernelspec": {
   "display_name": "base",
   "language": "python",
   "name": "python3"
  },
  "language_info": {
   "codemirror_mode": {
    "name": "ipython",
    "version": 3
   },
   "file_extension": ".py",
   "mimetype": "text/x-python",
   "name": "python",
   "nbconvert_exporter": "python",
   "pygments_lexer": "ipython3",
   "version": "3.12.3"
  }
 },
 "nbformat": 4,
 "nbformat_minor": 2
}
