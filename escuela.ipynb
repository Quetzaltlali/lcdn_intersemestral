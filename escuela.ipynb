{
 "cells": [
  {
   "cell_type": "markdown",
   "metadata": {},
   "source": [
    "#### 📝 Problemática de Estadística Multivariada: Análisis del Rendimiento Académico en Universidades\n",
    "\n",
    "\n",
    "**Profesora: Rocío Leonel Gómez**\n",
    "\n",
    "**Alumna: González Pineda Alejandra Quetzal**\n",
    "\n",
    "---\n",
    "\n",
    "#### Contexto\n",
    "\n",
    "El rendimiento académico de los estudiantes en universidades depende de múltiples factores, como el promedio de calificaciones, la asistencia, las horas de estudio, el acceso a recursos tecnológicos, el estado socioeconómico y otros aspectos personales (mínimo 5 variables). Sin embargo, no siempre está claro cuáles de estos factores tienen un mayor impacto en el desempeño general.\n",
    "\n",
    "#### Objetivo de la Investigación\n",
    "\n",
    "El objetivo de este estudio es determinar qué variables tienen mayor influencia en el rendimiento académico de los estudiantes universitarios mediante técnicas de **Estadística Multivariada**, como **Mapas de Calor** y **Análisis de Componentes Principales (PCA)**.\n",
    "\n",
    "#### ❓Preguntas de Investigación\n",
    "\n",
    "1. 📍 ¿Cuáles son las correlaciones más significativas entre las diferentes variables relacionadas con el rendimiento académico?\n",
    "2. 📍 ¿Es posible reducir la dimensionalidad del problema sin perder información importante sobre el rendimiento de los estudiantes?\n",
    "3. 📍 ¿Qué factores principales explican la mayor variabilidad en los datos sobre el desempeño académico?\n"
   ]
  },
  {
   "cell_type": "markdown",
   "metadata": {},
   "source": [
    "En este contexto, utilizaremos la Encuesta Nacional sobre Acceso y Permanencia en la Educación (ENAPE) 2021 de INEGI "
   ]
  },
  {
   "cell_type": "code",
   "execution_count": 40,
   "metadata": {
    "vscode": {
     "languageId": "r"
    }
   },
   "outputs": [
    {
     "name": "stderr",
     "output_type": "stream",
     "text": [
      "Installing package into 'C:/Users/quetz/AppData/Local/R/win-library/4.4'\n",
      "(as 'lib' is unspecified)\n",
      "\n",
      "also installing the dependency 'dendextend'\n",
      "\n",
      "\n",
      "Warning message:\n",
      "\"unable to access index for repository http://www.stats.ox.ac.uk/pub/RWin/bin/windows/contrib/4.4:\n",
      "  no fue posible abrir la URL 'http://www.stats.ox.ac.uk/pub/RWin/bin/windows/contrib/4.4/PACKAGES'\"\n"
     ]
    },
    {
     "name": "stdout",
     "output_type": "stream",
     "text": [
      "package 'dendextend' successfully unpacked and MD5 sums checked\n",
      "package 'factoextra' successfully unpacked and MD5 sums checked\n",
      "\n",
      "The downloaded binary packages are in\n",
      "\tC:\\Users\\quetz\\AppData\\Local\\Temp\\RtmpQB3Ty0\\downloaded_packages\n"
     ]
    },
    {
     "name": "stderr",
     "output_type": "stream",
     "text": [
      "\n",
      "factoextra installed\n",
      "\n",
      "Warning message:\n",
      "\"package 'factoextra' was built under R version 4.4.2\"\n"
     ]
    }
   ],
   "source": [
    "# Instalar paquetería\n",
    "if(!require('pacman')) install.packages('pacman')\n",
    "pacman::p_load(tidyverse,srvyr, showtext,janitor,httr,scales,corrr,reshape2,FactoMineR,factoextra)\n",
    "font_add_google(\"Montserrat\", \"montserrat\")\n",
    "showtext_auto()"
   ]
  },
  {
   "cell_type": "code",
   "execution_count": 10,
   "metadata": {
    "vscode": {
     "languageId": "r"
    }
   },
   "outputs": [],
   "source": [
    "# Cambiar el timeout predeterminado\n",
    "options(timeout=10000)"
   ]
  },
  {
   "cell_type": "code",
   "execution_count": 11,
   "metadata": {
    "vscode": {
     "languageId": "r"
    }
   },
   "outputs": [],
   "source": [
    "# Función para descargar y descomprimir un archivo con timeout\n",
    "download_and_unzip <- function(url, destination) {\n",
    "  tryCatch({\n",
    "    # Descargar el archivo con timeout\n",
    "    download.file(url, destfile = paste0(destination, \"/\", basename(url)), mode = \"wb\", timeout = 10000)\n",
    "\n",
    "    # Descomprimir el archivo\n",
    "    unzip(paste0(destination, \"/\", basename(url)), exdir = destination)\n",
    "\n",
    "    # Eliminar el archivo comprimido después de descomprimirlo\n",
    "    unlink(paste0(destination, \"/\", basename(url)))\n",
    "\n",
    "    message(paste(\"Descarga y descompresión exitosa ✅ para\", basename(url)))\n",
    "  }, error = function(e) {\n",
    "    warning(paste(\"Error al descargar o descomprimir ❌ \", basename(url), \":\", conditionMessage(e)))\n",
    "  })\n",
    "}"
   ]
  },
  {
   "cell_type": "code",
   "execution_count": 12,
   "metadata": {
    "vscode": {
     "languageId": "r"
    }
   },
   "outputs": [
    {
     "name": "stderr",
     "output_type": "stream",
     "text": [
      "Descarga y descompresión exitosa ✅ para enape_2021_bd_csv.zip\n",
      "\n"
     ]
    }
   ],
   "source": [
    "# URLs para descargar\n",
    "urls <- c(\n",
    "  \"https://www.inegi.org.mx/contenidos/programas/enape/2021/microdatos/enape_2021_bd_csv.zip\"\n",
    ")\n",
    "\n",
    "# Carpeta de destino\n",
    "destination <- \"microdatos\"\n",
    "\n",
    "# Recorrer las URLs y descargar/descomprimir\n",
    "for (url in urls) {\n",
    "  download_and_unzip(url, destination)\n",
    "}"
   ]
  },
  {
   "cell_type": "markdown",
   "metadata": {},
   "source": [
    "#### 1) Datos y Variables\n",
    "\n",
    "Se recopilarán  las siguientes variables **columnas** de la encuesta:\n",
    "\n",
    "- **pa3_8_6**  Evaluación con asistencia\n",
    "- **pb3_9_3**  Regularización en la escuela\n",
    "- **pd3_3**    Principal consecuencia si la persona en estudio deja de trabajar\n",
    "- **pb3_12_3** Tenencia de computadora\n",
    "- **pb3_16_1** Presenta estrés\n",
    "- **pb3_16_2** Presenta tristeza o depresión\n",
    "- **pd3_1**    Condición de actividad \n",
    "- **pb3_3**    Tipo de escuela\n",
    "- **pa3_6**    Aprobación del periodo escolar\n",
    "- **pb3_6**    Modalidad de asistencia\n"
   ]
  },
  {
   "cell_type": "code",
   "execution_count": 13,
   "metadata": {
    "vscode": {
     "languageId": "r"
    }
   },
   "outputs": [
    {
     "name": "stdout",
     "output_type": "stream",
     "text": [
      "Ruta actual 📂: c:/Users/quetz/Downloads \n"
     ]
    }
   ],
   "source": [
    "# Verificar la ruta de trabajo actual en R\n",
    "cat(\"Ruta actual 📂:\", getwd(), \"\\n\")\n"
   ]
  },
  {
   "cell_type": "code",
   "execution_count": 14,
   "metadata": {
    "vscode": {
     "languageId": "r"
    }
   },
   "outputs": [
    {
     "name": "stderr",
     "output_type": "stream",
     "text": [
      "\u001b[1mRows: \u001b[22m\u001b[34m32343\u001b[39m \u001b[1mColumns: \u001b[22m\u001b[34m101\u001b[39m\n",
      "\u001b[36m──\u001b[39m \u001b[1mColumn specification\u001b[22m \u001b[36m────────────────────────────────────────────────────────\u001b[39m\n",
      "\u001b[1mDelimiter:\u001b[22m \",\"\n",
      "\u001b[31mchr\u001b[39m (29): FOLIO, N_REN, EDAD, P3_1, PA3_3_NIVEL, PA3_3_BIMESTRE, PA3_3_TRIME...\n",
      "\u001b[32mdbl\u001b[39m (72): SEXO, P3_2, PA3_1, PA3_2, PA3_3_MODMAT, PA3_4, PA3_6, PA3_7_1, PA3...\n",
      "\n",
      "\u001b[36mℹ\u001b[39m Use `spec()` to retrieve the full column specification for this data.\n",
      "\u001b[36mℹ\u001b[39m Specify the column types or set `show_col_types = FALSE` to quiet this message.\n"
     ]
    },
    {
     "data": {
      "text/html": [
       "<table class=\"dataframe\">\n",
       "<caption>A tibble: 6 × 102</caption>\n",
       "<thead>\n",
       "\t<tr><th scope=col>folio</th><th scope=col>n_ren</th><th scope=col>sexo</th><th scope=col>edad</th><th scope=col>p3_1</th><th scope=col>p3_2</th><th scope=col>pa3_1</th><th scope=col>pa3_2</th><th scope=col>pa3_3_nivel</th><th scope=col>pa3_3_bimestre</th><th scope=col>⋯</th><th scope=col>pd3_2</th><th scope=col>pd3_3</th><th scope=col>ent</th><th scope=col>nivel_a</th><th scope=col>grado_a</th><th scope=col>nivel_b</th><th scope=col>grado_b</th><th scope=col>esc</th><th scope=col>factor</th><th scope=col>uni_actual</th></tr>\n",
       "\t<tr><th scope=col>&lt;chr&gt;</th><th scope=col>&lt;chr&gt;</th><th scope=col>&lt;dbl&gt;</th><th scope=col>&lt;chr&gt;</th><th scope=col>&lt;chr&gt;</th><th scope=col>&lt;dbl&gt;</th><th scope=col>&lt;dbl&gt;</th><th scope=col>&lt;dbl&gt;</th><th scope=col>&lt;chr&gt;</th><th scope=col>&lt;chr&gt;</th><th scope=col>⋯</th><th scope=col>&lt;chr&gt;</th><th scope=col>&lt;dbl&gt;</th><th scope=col>&lt;chr&gt;</th><th scope=col>&lt;chr&gt;</th><th scope=col>&lt;dbl&gt;</th><th scope=col>&lt;chr&gt;</th><th scope=col>&lt;dbl&gt;</th><th scope=col>&lt;dbl&gt;</th><th scope=col>&lt;dbl&gt;</th><th scope=col>&lt;dbl&gt;</th></tr>\n",
       "</thead>\n",
       "<tbody>\n",
       "\t<tr><td>00000002</td><td>01</td><td>1</td><td>13</td><td>02</td><td>NA</td><td>1</td><td> 1</td><td>03</td><td>NA</td><td>⋯</td><td>NA</td><td>10</td><td>24</td><td>03</td><td> 6</td><td>03</td><td> 1</td><td>2</td><td>809</td><td> 0</td></tr>\n",
       "\t<tr><td>00000002</td><td>02</td><td>2</td><td>19</td><td>02</td><td>NA</td><td>1</td><td> 1</td><td>09</td><td>NA</td><td>⋯</td><td>NA</td><td>10</td><td>24</td><td>09</td><td> 1</td><td>08</td><td> 2</td><td>5</td><td>809</td><td> 1</td></tr>\n",
       "\t<tr><td>00000007</td><td>01</td><td>2</td><td>08</td><td>02</td><td>NA</td><td>1</td><td> 1</td><td>03</td><td>NA</td><td>⋯</td><td>NA</td><td>10</td><td>22</td><td>03</td><td> 2</td><td>02</td><td> 3</td><td>2</td><td>722</td><td> 0</td></tr>\n",
       "\t<tr><td>00000007</td><td>02</td><td>1</td><td>26</td><td>07</td><td>NA</td><td>2</td><td>NA</td><td>NA</td><td>NA</td><td>⋯</td><td>40</td><td> 8</td><td>22</td><td>NA</td><td>NA</td><td>NA</td><td>NA</td><td>4</td><td>722</td><td>NA</td></tr>\n",
       "\t<tr><td>00000009</td><td>01</td><td>1</td><td>27</td><td>01</td><td>NA</td><td>1</td><td> 2</td><td>09</td><td>NA</td><td>⋯</td><td>25</td><td> 8</td><td>26</td><td>09</td><td> 1</td><td>08</td><td> 2</td><td>5</td><td>425</td><td> 1</td></tr>\n",
       "\t<tr><td>00000011</td><td>01</td><td>2</td><td>24</td><td>10</td><td>NA</td><td>2</td><td>NA</td><td>NA</td><td>NA</td><td>⋯</td><td>NA</td><td>10</td><td>26</td><td>NA</td><td>NA</td><td>NA</td><td>NA</td><td>5</td><td>584</td><td>NA</td></tr>\n",
       "</tbody>\n",
       "</table>\n"
      ],
      "text/latex": [
       "A tibble: 6 × 102\n",
       "\\begin{tabular}{lllllllllllllllllllll}\n",
       " folio & n\\_ren & sexo & edad & p3\\_1 & p3\\_2 & pa3\\_1 & pa3\\_2 & pa3\\_3\\_nivel & pa3\\_3\\_bimestre & ⋯ & pd3\\_2 & pd3\\_3 & ent & nivel\\_a & grado\\_a & nivel\\_b & grado\\_b & esc & factor & uni\\_actual\\\\\n",
       " <chr> & <chr> & <dbl> & <chr> & <chr> & <dbl> & <dbl> & <dbl> & <chr> & <chr> & ⋯ & <chr> & <dbl> & <chr> & <chr> & <dbl> & <chr> & <dbl> & <dbl> & <dbl> & <dbl>\\\\\n",
       "\\hline\n",
       "\t 00000002 & 01 & 1 & 13 & 02 & NA & 1 &  1 & 03 & NA & ⋯ & NA & 10 & 24 & 03 &  6 & 03 &  1 & 2 & 809 &  0\\\\\n",
       "\t 00000002 & 02 & 2 & 19 & 02 & NA & 1 &  1 & 09 & NA & ⋯ & NA & 10 & 24 & 09 &  1 & 08 &  2 & 5 & 809 &  1\\\\\n",
       "\t 00000007 & 01 & 2 & 08 & 02 & NA & 1 &  1 & 03 & NA & ⋯ & NA & 10 & 22 & 03 &  2 & 02 &  3 & 2 & 722 &  0\\\\\n",
       "\t 00000007 & 02 & 1 & 26 & 07 & NA & 2 & NA & NA & NA & ⋯ & 40 &  8 & 22 & NA & NA & NA & NA & 4 & 722 & NA\\\\\n",
       "\t 00000009 & 01 & 1 & 27 & 01 & NA & 1 &  2 & 09 & NA & ⋯ & 25 &  8 & 26 & 09 &  1 & 08 &  2 & 5 & 425 &  1\\\\\n",
       "\t 00000011 & 01 & 2 & 24 & 10 & NA & 2 & NA & NA & NA & ⋯ & NA & 10 & 26 & NA & NA & NA & NA & 5 & 584 & NA\\\\\n",
       "\\end{tabular}\n"
      ],
      "text/markdown": [
       "\n",
       "A tibble: 6 × 102\n",
       "\n",
       "| folio &lt;chr&gt; | n_ren &lt;chr&gt; | sexo &lt;dbl&gt; | edad &lt;chr&gt; | p3_1 &lt;chr&gt; | p3_2 &lt;dbl&gt; | pa3_1 &lt;dbl&gt; | pa3_2 &lt;dbl&gt; | pa3_3_nivel &lt;chr&gt; | pa3_3_bimestre &lt;chr&gt; | ⋯ ⋯ | pd3_2 &lt;chr&gt; | pd3_3 &lt;dbl&gt; | ent &lt;chr&gt; | nivel_a &lt;chr&gt; | grado_a &lt;dbl&gt; | nivel_b &lt;chr&gt; | grado_b &lt;dbl&gt; | esc &lt;dbl&gt; | factor &lt;dbl&gt; | uni_actual &lt;dbl&gt; |\n",
       "|---|---|---|---|---|---|---|---|---|---|---|---|---|---|---|---|---|---|---|---|---|\n",
       "| 00000002 | 01 | 1 | 13 | 02 | NA | 1 |  1 | 03 | NA | ⋯ | NA | 10 | 24 | 03 |  6 | 03 |  1 | 2 | 809 |  0 |\n",
       "| 00000002 | 02 | 2 | 19 | 02 | NA | 1 |  1 | 09 | NA | ⋯ | NA | 10 | 24 | 09 |  1 | 08 |  2 | 5 | 809 |  1 |\n",
       "| 00000007 | 01 | 2 | 08 | 02 | NA | 1 |  1 | 03 | NA | ⋯ | NA | 10 | 22 | 03 |  2 | 02 |  3 | 2 | 722 |  0 |\n",
       "| 00000007 | 02 | 1 | 26 | 07 | NA | 2 | NA | NA | NA | ⋯ | 40 |  8 | 22 | NA | NA | NA | NA | 4 | 722 | NA |\n",
       "| 00000009 | 01 | 1 | 27 | 01 | NA | 1 |  2 | 09 | NA | ⋯ | 25 |  8 | 26 | 09 |  1 | 08 |  2 | 5 | 425 |  1 |\n",
       "| 00000011 | 01 | 2 | 24 | 10 | NA | 2 | NA | NA | NA | ⋯ | NA | 10 | 26 | NA | NA | NA | NA | 5 | 584 | NA |\n",
       "\n"
      ],
      "text/plain": [
       "  folio    n_ren sexo edad p3_1 p3_2 pa3_1 pa3_2 pa3_3_nivel pa3_3_bimestre ⋯\n",
       "1 00000002 01    1    13   02   NA   1      1    03          NA             ⋯\n",
       "2 00000002 02    2    19   02   NA   1      1    09          NA             ⋯\n",
       "3 00000007 01    2    08   02   NA   1      1    03          NA             ⋯\n",
       "4 00000007 02    1    26   07   NA   2     NA    NA          NA             ⋯\n",
       "5 00000009 01    1    27   01   NA   1      2    09          NA             ⋯\n",
       "6 00000011 01    2    24   10   NA   2     NA    NA          NA             ⋯\n",
       "  pd3_2 pd3_3 ent nivel_a grado_a nivel_b grado_b esc factor uni_actual\n",
       "1 NA    10    24  03       6      03       1      2   809     0        \n",
       "2 NA    10    24  09       1      08       2      5   809     1        \n",
       "3 NA    10    22  03       2      02       3      2   722     0        \n",
       "4 40     8    22  NA      NA      NA      NA      4   722    NA        \n",
       "5 25     8    26  09       1      08       2      5   425     1        \n",
       "6 NA    10    26  NA      NA      NA      NA      5   584    NA        "
      ]
     },
     "metadata": {},
     "output_type": "display_data"
    }
   ],
   "source": [
    "# Leer la tabla y limpiar nombres de variables\n",
    "modulo <- read_csv(\"microdatos/TMODULO.csv\") %>%\n",
    "  clean_names() %>%\n",
    "  mutate(\n",
    "    uni_actual = ifelse(pb3_5_nivel == \"08\", 1, 0),  # Crear la columna uni_actual\n",
    "    across(c(pa3_8_6, pb3_9_3, pd3_3, pb3_12_3, pb3_16_1, \n",
    "             pb3_16_2, pd3_1, pb3_3, pa3_6, pb3_6),  # Variables a modificar\n",
    "           ~ ifelse(is.na(.), 10, .))  # Reemplazar NA con 10\n",
    "  )\n",
    "\n",
    "# Mostrar los primeros registros para verificar cambios\n",
    "head(modulo)\n"
   ]
  },
  {
   "cell_type": "code",
   "execution_count": 15,
   "metadata": {
    "vscode": {
     "languageId": "r"
    }
   },
   "outputs": [
    {
     "name": "stdout",
     "output_type": "stream",
     "text": [
      "tibble [32,343 × 102] (S3: tbl_df/tbl/data.frame)\n",
      " $ folio             : chr [1:32343] \"00000002\" \"00000002\" \"00000007\" \"00000007\" ...\n",
      " $ n_ren             : chr [1:32343] \"01\" \"02\" \"01\" \"02\" ...\n",
      " $ sexo              : num [1:32343] 1 2 2 1 1 2 1 1 2 1 ...\n",
      " $ edad              : chr [1:32343] \"13\" \"19\" \"08\" \"26\" ...\n",
      " $ p3_1              : chr [1:32343] \"02\" \"02\" \"02\" \"07\" ...\n",
      " $ p3_2              : num [1:32343] NA NA NA NA NA NA NA NA NA NA ...\n",
      " $ pa3_1             : num [1:32343] 1 1 1 2 1 2 2 1 1 1 ...\n",
      " $ pa3_2             : num [1:32343] 1 1 1 NA 2 NA NA 2 1 1 ...\n",
      " $ pa3_3_nivel       : chr [1:32343] \"03\" \"09\" \"03\" NA ...\n",
      " $ pa3_3_bimestre    : chr [1:32343] NA NA NA NA ...\n",
      " $ pa3_3_trimestre   : chr [1:32343] NA NA NA NA ...\n",
      " $ pa3_3_cuatrimestre: chr [1:32343] NA NA NA NA ...\n",
      " $ pa3_3_semestre    : chr [1:32343] NA NA NA NA ...\n",
      " $ pa3_3_anio        : chr [1:32343] \"06\" \"01\" \"02\" NA ...\n",
      " $ pa3_3_modmat      : num [1:32343] NA NA NA NA NA NA NA NA NA NA ...\n",
      " $ pa3_4             : num [1:32343] 1 1 1 NA 1 NA NA 1 1 1 ...\n",
      " $ pa3_5             : chr [1:32343] NA NA NA NA ...\n",
      " $ pa3_6             : num [1:32343] 3 3 3 10 3 10 10 3 3 3 ...\n",
      " $ pa3_7_1           : num [1:32343] 2 1 2 NA 2 NA NA 2 2 2 ...\n",
      " $ pa3_7_2           : num [1:32343] NA 2 NA NA 2 NA NA NA 2 2 ...\n",
      " $ pa3_7_3           : num [1:32343] NA 2 NA NA 2 NA NA NA 2 2 ...\n",
      " $ pa3_8_1           : num [1:32343] 1 1 1 NA 1 NA NA 1 1 1 ...\n",
      " $ pa3_8_2           : num [1:32343] 1 1 1 NA 1 NA NA 1 1 1 ...\n",
      " $ pa3_8_3           : num [1:32343] 2 2 2 NA 2 NA NA 2 2 2 ...\n",
      " $ pa3_8_4           : num [1:32343] 2 2 2 NA 2 NA NA 2 2 2 ...\n",
      " $ pa3_8_5           : num [1:32343] 1 1 2 NA 1 NA NA 2 2 2 ...\n",
      " $ pa3_8_6           : num [1:32343] 2 2 2 10 1 10 10 2 2 2 ...\n",
      " $ pa3_8_7           : num [1:32343] 2 2 2 NA 2 NA NA 2 2 2 ...\n",
      " $ pa3_8_8           : num [1:32343] 2 2 2 NA 2 NA NA 2 2 2 ...\n",
      " $ pb3_1             : num [1:32343] 1 1 1 2 1 2 1 1 1 1 ...\n",
      " $ pb3_2             : chr [1:32343] NA NA NA \"03\" ...\n",
      " $ pb3_3             : num [1:32343] 1 1 1 10 2 10 1 2 1 1 ...\n",
      " $ filtro_a          : num [1:32343] 2 2 2 NA 2 NA 2 2 2 2 ...\n",
      " $ pb3_4             : chr [1:32343] NA NA NA NA ...\n",
      " $ pb3_5_nivel       : chr [1:32343] \"03\" \"08\" \"02\" NA ...\n",
      " $ pb3_5_bimestre    : chr [1:32343] NA NA NA NA ...\n",
      " $ pb3_5_trimestre   : chr [1:32343] NA NA NA NA ...\n",
      " $ pb3_5_cuatrimestre: chr [1:32343] NA NA NA NA ...\n",
      " $ pb3_5_semestre    : chr [1:32343] NA NA NA NA ...\n",
      " $ pb3_5_anio        : chr [1:32343] \"01\" \"02\" \"03\" NA ...\n",
      " $ pb3_5_modmat      : num [1:32343] NA NA NA NA NA NA NA NA NA NA ...\n",
      " $ pb3_6             : num [1:32343] 3 3 3 10 1 10 2 1 3 3 ...\n",
      " $ pb3_7             : chr [1:32343] NA NA NA NA ...\n",
      " $ pb3_8             : num [1:32343] 1 1 1 NA NA NA 1 NA 1 1 ...\n",
      " $ pb3_9_1           : num [1:32343] 1 1 1 NA 1 NA 1 1 1 1 ...\n",
      " $ pb3_9_2           : num [1:32343] 2 2 2 NA 9 NA 2 2 2 1 ...\n",
      " $ pb3_9_3           : num [1:32343] 2 2 2 10 9 10 1 1 1 1 ...\n",
      " $ pb3_10_1          : num [1:32343] 1 1 1 NA 1 NA 1 1 2 2 ...\n",
      " $ pb3_10_2          : num [1:32343] 1 1 2 NA 1 NA 1 1 1 1 ...\n",
      " $ pb3_10_3          : num [1:32343] 1 1 1 NA 1 NA 1 1 1 1 ...\n",
      " $ pb3_10_4          : num [1:32343] 1 1 1 NA 1 NA 1 1 2 2 ...\n",
      " $ pb3_10_5          : num [1:32343] 2 2 2 NA 2 NA 2 2 2 2 ...\n",
      " $ pb3_11_1          : num [1:32343] 1 1 1 NA 2 NA 2 2 1 2 ...\n",
      " $ pb3_11_2          : num [1:32343] 1 1 1 NA 1 NA 1 1 2 1 ...\n",
      " $ pb3_11_3          : num [1:32343] 1 2 2 NA 2 NA 2 1 2 2 ...\n",
      " $ pb3_11_4          : num [1:32343] 2 2 2 NA 1 NA 1 2 1 2 ...\n",
      " $ pb3_11_5          : num [1:32343] 2 2 2 NA 2 NA 2 2 2 2 ...\n",
      " $ pb3_12_1          : num [1:32343] 2 2 1 NA 2 NA 1 1 1 1 ...\n",
      " $ pb3_12_2          : num [1:32343] 1 1 2 NA 1 NA 2 1 1 1 ...\n",
      " $ pb3_12_3          : num [1:32343] 2 2 2 10 2 10 2 2 2 2 ...\n",
      " $ pb3_12_4          : num [1:32343] 2 2 2 NA 1 NA 2 2 2 2 ...\n",
      " $ pb3_12_5          : num [1:32343] 2 2 2 NA 2 NA 2 2 2 2 ...\n",
      " $ pb3_12_6          : num [1:32343] 2 2 1 NA 1 NA 1 1 1 1 ...\n",
      " $ pb3_12_7          : num [1:32343] 2 2 2 NA 2 NA 2 2 2 2 ...\n",
      " $ pb3_12_8          : num [1:32343] 2 2 2 NA 2 NA 2 2 2 2 ...\n",
      " $ filtro_b          : num [1:32343] 1 2 1 NA 2 NA 1 1 2 2 ...\n",
      " $ pb3_13_1          : num [1:32343] 1 NA 1 NA NA NA 1 1 NA NA ...\n",
      " $ pb3_13_2          : num [1:32343] 2 NA 2 NA NA NA 2 2 NA NA ...\n",
      " $ pb3_13_3          : num [1:32343] 2 NA 2 NA NA NA 2 2 NA NA ...\n",
      " $ pb3_13_4          : num [1:32343] 2 NA 2 NA NA NA 2 2 NA NA ...\n",
      " $ pb3_13_5          : num [1:32343] 2 NA 2 NA NA NA 2 2 NA NA ...\n",
      " $ pb3_13_6          : num [1:32343] 2 NA 2 NA NA NA 2 2 NA NA ...\n",
      " $ pb3_13_7          : num [1:32343] 2 NA 2 NA NA NA 2 2 NA NA ...\n",
      " $ pb3_14            : chr [1:32343] \"00\" NA \"40\" NA ...\n",
      " $ pb3_15            : num [1:32343] 7 NA 7 NA NA NA 8 8 NA NA ...\n",
      " $ pb3_16_1          : num [1:32343] 1 1 1 10 2 10 1 2 1 2 ...\n",
      " $ pb3_16_2          : num [1:32343] 2 2 2 10 2 10 1 2 2 2 ...\n",
      " $ pb3_16_3          : num [1:32343] 2 2 1 NA 2 NA 1 2 2 2 ...\n",
      " $ pb3_16_4          : num [1:32343] 2 2 2 NA 2 NA 1 2 2 2 ...\n",
      " $ pb3_16_5          : num [1:32343] 2 2 2 NA 1 NA 2 1 2 1 ...\n",
      " $ filtro_c          : num [1:32343] NA NA NA 1 NA 1 NA NA NA NA ...\n",
      " $ pc3_1             : num [1:32343] NA NA NA 1 NA 1 NA NA NA NA ...\n",
      " $ pc3_2             : chr [1:32343] NA NA NA NA ...\n",
      " $ pc3_3_1           : chr [1:32343] NA NA NA \"04\" ...\n",
      " $ pc3_3_2           : num [1:32343] NA NA NA 2 NA 4 NA NA NA NA ...\n",
      " $ pc3_4             : num [1:32343] NA NA NA 1 NA 2 NA NA NA NA ...\n",
      " $ pc3_5             : chr [1:32343] NA NA NA \"23\" ...\n",
      " $ pc3_6             : chr [1:32343] NA NA NA \"03\" ...\n",
      " $ pc3_7             : num [1:32343] NA NA NA 1 NA 1 NA NA NA NA ...\n",
      " $ pc3_8             : num [1:32343] NA NA NA 3 NA 3 NA NA NA NA ...\n",
      " $ filtro_d          : num [1:32343] 2 1 2 1 1 1 2 2 1 1 ...\n",
      " $ pd3_1             : num [1:32343] 10 7 10 1 1 7 10 10 1 7 ...\n",
      " $ pd3_2             : chr [1:32343] NA NA NA \"40\" ...\n",
      " $ pd3_3             : num [1:32343] 10 10 10 8 8 10 10 10 8 10 ...\n",
      " $ ent               : chr [1:32343] \"24\" \"24\" \"22\" \"22\" ...\n",
      " $ nivel_a           : chr [1:32343] \"03\" \"09\" \"03\" NA ...\n",
      " $ grado_a           : num [1:32343] 6 1 2 NA 1 NA NA 5 1 2 ...\n",
      " $ nivel_b           : chr [1:32343] \"03\" \"08\" \"02\" NA ...\n",
      " $ grado_b           : num [1:32343] 1 2 3 NA 2 NA 2 6 2 3 ...\n",
      "  [list output truncated]\n"
     ]
    }
   ],
   "source": [
    "#Ver las columnas de la tabla\n",
    "str(modulo)"
   ]
  },
  {
   "cell_type": "code",
   "execution_count": 16,
   "metadata": {
    "vscode": {
     "languageId": "r"
    }
   },
   "outputs": [],
   "source": [
    "# Definir diseño muestral\n",
    "dm <- modulo %>%\n",
    "  as_survey_design(weights = factor)  # Solo usamos la variable de pesos"
   ]
  },
  {
   "cell_type": "code",
   "execution_count": 17,
   "metadata": {
    "vscode": {
     "languageId": "r"
    }
   },
   "outputs": [
    {
     "data": {
      "text/plain": [
       "  personas$coef personas$_se\n",
       "1 59,982,360    432,640     "
      ]
     },
     "metadata": {},
     "output_type": "display_data"
    }
   ],
   "source": [
    "# ------------------------------------------------  Personas de 0 a 29 años al momento de la entrevista dentro del diseño muestral\n",
    "dm %>%\n",
    "  summarise(personas = format(survey_total(), big.mark = \",\")) "
   ]
  },
  {
   "cell_type": "code",
   "execution_count": 18,
   "metadata": {
    "vscode": {
     "languageId": "r"
    }
   },
   "outputs": [
    {
     "data": {
      "text/html": [
       "<table class=\"dataframe\">\n",
       "<caption>A tabyl: 4 × 5</caption>\n",
       "<thead>\n",
       "\t<tr><th scope=col>pa3_8_6</th><th scope=col>personas</th><th scope=col>personas_cv</th><th scope=col>porcentaje</th><th scope=col>porcentaje_cv</th></tr>\n",
       "\t<tr><th scope=col>&lt;chr&gt;</th><th scope=col>&lt;chr&gt;</th><th scope=col>&lt;dbl&gt;</th><th scope=col>&lt;chr&gt;</th><th scope=col>&lt;dbl&gt;</th></tr>\n",
       "</thead>\n",
       "<tbody>\n",
       "\t<tr><td>Sí         </td><td>892,853  </td><td>0.05632825</td><td>19% </td><td>0.05111463</td></tr>\n",
       "\t<tr><td>No         </td><td>3,375,807</td><td>0.02918131</td><td>72% </td><td>0.01550794</td></tr>\n",
       "\t<tr><td>No contesto</td><td>389,868  </td><td>0.08916781</td><td>8%  </td><td>0.08533948</td></tr>\n",
       "\t<tr><td>Total      </td><td>4,658,528</td><td>0.17467737</td><td>100%</td><td>0.15196206</td></tr>\n",
       "</tbody>\n",
       "</table>\n"
      ],
      "text/latex": [
       "A tabyl: 4 × 5\n",
       "\\begin{tabular}{lllll}\n",
       " pa3\\_8\\_6 & personas & personas\\_cv & porcentaje & porcentaje\\_cv\\\\\n",
       " <chr> & <chr> & <dbl> & <chr> & <dbl>\\\\\n",
       "\\hline\n",
       "\t Sí          & 892,853   & 0.05632825 & 19\\%  & 0.05111463\\\\\n",
       "\t No          & 3,375,807 & 0.02918131 & 72\\%  & 0.01550794\\\\\n",
       "\t No contesto & 389,868   & 0.08916781 & 8\\%   & 0.08533948\\\\\n",
       "\t Total       & 4,658,528 & 0.17467737 & 100\\% & 0.15196206\\\\\n",
       "\\end{tabular}\n"
      ],
      "text/markdown": [
       "\n",
       "A tabyl: 4 × 5\n",
       "\n",
       "| pa3_8_6 &lt;chr&gt; | personas &lt;chr&gt; | personas_cv &lt;dbl&gt; | porcentaje &lt;chr&gt; | porcentaje_cv &lt;dbl&gt; |\n",
       "|---|---|---|---|---|\n",
       "| Sí          | 892,853   | 0.05632825 | 19%  | 0.05111463 |\n",
       "| No          | 3,375,807 | 0.02918131 | 72%  | 0.01550794 |\n",
       "| No contesto | 389,868   | 0.08916781 | 8%   | 0.08533948 |\n",
       "| Total       | 4,658,528 | 0.17467737 | 100% | 0.15196206 |\n",
       "\n"
      ],
      "text/plain": [
       "  pa3_8_6     personas  personas_cv porcentaje porcentaje_cv\n",
       "1 Sí          892,853   0.05632825  19%        0.05111463   \n",
       "2 No          3,375,807 0.02918131  72%        0.01550794   \n",
       "3 No contesto 389,868   0.08916781  8%         0.08533948   \n",
       "4 Total       4,658,528 0.17467737  100%       0.15196206   "
      ]
     },
     "metadata": {},
     "output_type": "display_data"
    }
   ],
   "source": [
    "# ------------------------------------------------ Persona evaluada con asistencia\n",
    "\n",
    "persona_asist <- dm %>%\n",
    "  filter(uni_actual == 1) %>%  # Filtrar solo los casos donde uni_actual es 1\n",
    "  group_by(pa3_8_6) %>%  # Agrupar por la categoría original\n",
    "  summarise(\n",
    "    personas = survey_total(vartype = \"cv\", level = 0.95),\n",
    "    porcentaje = survey_prop(vartype = \"cv\", level = 0.95)\n",
    "  ) %>%\n",
    "  mutate(\n",
    "    pa3_8_6 = case_when(\n",
    "      pa3_8_6 == 1 ~ \"Sí\",\n",
    "      pa3_8_6 == 2 ~ \"No\",\n",
    "      pa3_8_6 == 10 ~ \"No contesto\"\n",
    "    )\n",
    "  ) %>%\n",
    "  adorn_totals() %>% \n",
    "  mutate(\n",
    "    personas = label_number(big.mark = \",\")(personas),\n",
    "    porcentaje = label_number(big.mark = \",\", suffix = \"%\")(porcentaje * 100)\n",
    "  )\n",
    "\n",
    "# Mostrar resultados\n",
    "persona_asist"
   ]
  },
  {
   "cell_type": "code",
   "execution_count": 19,
   "metadata": {
    "vscode": {
     "languageId": "r"
    }
   },
   "outputs": [
    {
     "data": {
      "text/html": [
       "<table class=\"dataframe\">\n",
       "<caption>A tabyl: 4 × 5</caption>\n",
       "<thead>\n",
       "\t<tr><th scope=col>pb3_9_3</th><th scope=col>personas</th><th scope=col>personas_cv</th><th scope=col>porcentaje</th><th scope=col>porcentaje_cv</th></tr>\n",
       "\t<tr><th scope=col>&lt;chr&gt;</th><th scope=col>&lt;chr&gt;</th><th scope=col>&lt;dbl&gt;</th><th scope=col>&lt;chr&gt;</th><th scope=col>&lt;dbl&gt;</th></tr>\n",
       "</thead>\n",
       "<tbody>\n",
       "\t<tr><td>Sí     </td><td>1,511,817</td><td>0.04314214</td><td>32% </td><td>0.03606993</td></tr>\n",
       "\t<tr><td>No     </td><td>2,774,255</td><td>0.03296511</td><td>60% </td><td>0.02057857</td></tr>\n",
       "\t<tr><td>No sabe</td><td>372,456  </td><td>0.08024018</td><td>8%  </td><td>0.07792253</td></tr>\n",
       "\t<tr><td>Total  </td><td>4,658,528</td><td>0.15634743</td><td>100%</td><td>0.13457102</td></tr>\n",
       "</tbody>\n",
       "</table>\n"
      ],
      "text/latex": [
       "A tabyl: 4 × 5\n",
       "\\begin{tabular}{lllll}\n",
       " pb3\\_9\\_3 & personas & personas\\_cv & porcentaje & porcentaje\\_cv\\\\\n",
       " <chr> & <chr> & <dbl> & <chr> & <dbl>\\\\\n",
       "\\hline\n",
       "\t Sí      & 1,511,817 & 0.04314214 & 32\\%  & 0.03606993\\\\\n",
       "\t No      & 2,774,255 & 0.03296511 & 60\\%  & 0.02057857\\\\\n",
       "\t No sabe & 372,456   & 0.08024018 & 8\\%   & 0.07792253\\\\\n",
       "\t Total   & 4,658,528 & 0.15634743 & 100\\% & 0.13457102\\\\\n",
       "\\end{tabular}\n"
      ],
      "text/markdown": [
       "\n",
       "A tabyl: 4 × 5\n",
       "\n",
       "| pb3_9_3 &lt;chr&gt; | personas &lt;chr&gt; | personas_cv &lt;dbl&gt; | porcentaje &lt;chr&gt; | porcentaje_cv &lt;dbl&gt; |\n",
       "|---|---|---|---|---|\n",
       "| Sí      | 1,511,817 | 0.04314214 | 32%  | 0.03606993 |\n",
       "| No      | 2,774,255 | 0.03296511 | 60%  | 0.02057857 |\n",
       "| No sabe | 372,456   | 0.08024018 | 8%   | 0.07792253 |\n",
       "| Total   | 4,658,528 | 0.15634743 | 100% | 0.13457102 |\n",
       "\n"
      ],
      "text/plain": [
       "  pb3_9_3 personas  personas_cv porcentaje porcentaje_cv\n",
       "1 Sí      1,511,817 0.04314214  32%        0.03606993   \n",
       "2 No      2,774,255 0.03296511  60%        0.02057857   \n",
       "3 No sabe 372,456   0.08024018  8%         0.07792253   \n",
       "4 Total   4,658,528 0.15634743  100%       0.13457102   "
      ]
     },
     "metadata": {},
     "output_type": "display_data"
    }
   ],
   "source": [
    "# ------------------------------------------------ Se realizan clases extra para regularizar a los estudiantes en la escuela en que está inscrita la persona en estudio\n",
    "\n",
    "regu_extra <- dm %>%\n",
    "  filter(uni_actual == 1) %>%  # Filtrar solo los casos donde uni_actual es 1\n",
    "  group_by(pb3_9_3) %>%  # Agrupar por la categoría original\n",
    "  summarise(\n",
    "    personas = survey_total(vartype = \"cv\", level = 0.95),\n",
    "    porcentaje = survey_prop(vartype = \"cv\", level = 0.95)\n",
    "  ) %>%\n",
    "  mutate(\n",
    "    pb3_9_3 = case_when(\n",
    "      pb3_9_3 == 1 ~ \"Sí\",\n",
    "      pb3_9_3 == 2 ~ \"No\",      \n",
    "      pb3_9_3 == 9 ~ \"No sabe\",\n",
    "      pb3_9_3 == 10 ~ \"No contesto\",\n",
    "      TRUE ~ \"No especificado\"\n",
    "    )\n",
    "  ) %>%\n",
    "  adorn_totals() %>% \n",
    "  mutate(\n",
    "    personas = label_number(big.mark = \",\")(personas),\n",
    "    porcentaje = label_number(big.mark = \",\", suffix = \"%\")(porcentaje * 100)\n",
    "  )\n",
    "\n",
    "# Mostrar resultados\n",
    "regu_extra"
   ]
  },
  {
   "cell_type": "code",
   "execution_count": 20,
   "metadata": {
    "vscode": {
     "languageId": "r"
    }
   },
   "outputs": [
    {
     "data": {
      "text/html": [
       "<table class=\"dataframe\">\n",
       "<caption>A tabyl: 10 × 5</caption>\n",
       "<thead>\n",
       "\t<tr><th scope=col>pd3_3</th><th scope=col>personas</th><th scope=col>personas_cv</th><th scope=col>porcentaje</th><th scope=col>porcentaje_cv</th></tr>\n",
       "\t<tr><th scope=col>&lt;chr&gt;</th><th scope=col>&lt;chr&gt;</th><th scope=col>&lt;dbl&gt;</th><th scope=col>&lt;chr&gt;</th><th scope=col>&lt;dbl&gt;</th></tr>\n",
       "</thead>\n",
       "<tbody>\n",
       "\t<tr><td>Tendría que contratarse a otra persona en el negocio familiar      </td><td>14,021   </td><td>0.32565659</td><td>0.30%  </td><td>0.32570164</td></tr>\n",
       "\t<tr><td>El hogar no podría sostenerse económicamente                       </td><td>83,651   </td><td>0.20913015</td><td>1.80%  </td><td>0.20695784</td></tr>\n",
       "\t<tr><td>El ingreso del hogar se vería disminuido                           </td><td>342,601  </td><td>0.09376642</td><td>7.35%  </td><td>0.09034549</td></tr>\n",
       "\t<tr><td>La carga de trabajo sería más pesada para los demás                </td><td>40,804   </td><td>0.21894923</td><td>0.88%  </td><td>0.21855512</td></tr>\n",
       "\t<tr><td>El hogar tendría que destinar ingresos para los gastos de ella (él)</td><td>180,053  </td><td>0.13917835</td><td>3.87%  </td><td>0.13615718</td></tr>\n",
       "\t<tr><td>Ella (él) ya no podría continuar estudiando                        </td><td>270,076  </td><td>0.12656774</td><td>5.80%  </td><td>0.12176323</td></tr>\n",
       "\t<tr><td>Otra consecuencia                                                  </td><td>7,436    </td><td>0.51250211</td><td>0.16%  </td><td>0.51233554</td></tr>\n",
       "\t<tr><td>No habría consecuencia                                             </td><td>681,125  </td><td>0.06104955</td><td>14.62% </td><td>0.05741124</td></tr>\n",
       "\t<tr><td>No contesto                                                        </td><td>3,038,761</td><td>0.03040780</td><td>65.23% </td><td>0.01859914</td></tr>\n",
       "\t<tr><td>Total                                                              </td><td>4,658,528</td><td>1.71720793</td><td>100.00%</td><td>1.68782643</td></tr>\n",
       "</tbody>\n",
       "</table>\n"
      ],
      "text/latex": [
       "A tabyl: 10 × 5\n",
       "\\begin{tabular}{lllll}\n",
       " pd3\\_3 & personas & personas\\_cv & porcentaje & porcentaje\\_cv\\\\\n",
       " <chr> & <chr> & <dbl> & <chr> & <dbl>\\\\\n",
       "\\hline\n",
       "\t Tendría que contratarse a otra persona en el negocio familiar       & 14,021    & 0.32565659 & 0.30\\%   & 0.32570164\\\\\n",
       "\t El hogar no podría sostenerse económicamente                        & 83,651    & 0.20913015 & 1.80\\%   & 0.20695784\\\\\n",
       "\t El ingreso del hogar se vería disminuido                            & 342,601   & 0.09376642 & 7.35\\%   & 0.09034549\\\\\n",
       "\t La carga de trabajo sería más pesada para los demás                 & 40,804    & 0.21894923 & 0.88\\%   & 0.21855512\\\\\n",
       "\t El hogar tendría que destinar ingresos para los gastos de ella (él) & 180,053   & 0.13917835 & 3.87\\%   & 0.13615718\\\\\n",
       "\t Ella (él) ya no podría continuar estudiando                         & 270,076   & 0.12656774 & 5.80\\%   & 0.12176323\\\\\n",
       "\t Otra consecuencia                                                   & 7,436     & 0.51250211 & 0.16\\%   & 0.51233554\\\\\n",
       "\t No habría consecuencia                                              & 681,125   & 0.06104955 & 14.62\\%  & 0.05741124\\\\\n",
       "\t No contesto                                                         & 3,038,761 & 0.03040780 & 65.23\\%  & 0.01859914\\\\\n",
       "\t Total                                                               & 4,658,528 & 1.71720793 & 100.00\\% & 1.68782643\\\\\n",
       "\\end{tabular}\n"
      ],
      "text/markdown": [
       "\n",
       "A tabyl: 10 × 5\n",
       "\n",
       "| pd3_3 &lt;chr&gt; | personas &lt;chr&gt; | personas_cv &lt;dbl&gt; | porcentaje &lt;chr&gt; | porcentaje_cv &lt;dbl&gt; |\n",
       "|---|---|---|---|---|\n",
       "| Tendría que contratarse a otra persona en el negocio familiar       | 14,021    | 0.32565659 | 0.30%   | 0.32570164 |\n",
       "| El hogar no podría sostenerse económicamente                        | 83,651    | 0.20913015 | 1.80%   | 0.20695784 |\n",
       "| El ingreso del hogar se vería disminuido                            | 342,601   | 0.09376642 | 7.35%   | 0.09034549 |\n",
       "| La carga de trabajo sería más pesada para los demás                 | 40,804    | 0.21894923 | 0.88%   | 0.21855512 |\n",
       "| El hogar tendría que destinar ingresos para los gastos de ella (él) | 180,053   | 0.13917835 | 3.87%   | 0.13615718 |\n",
       "| Ella (él) ya no podría continuar estudiando                         | 270,076   | 0.12656774 | 5.80%   | 0.12176323 |\n",
       "| Otra consecuencia                                                   | 7,436     | 0.51250211 | 0.16%   | 0.51233554 |\n",
       "| No habría consecuencia                                              | 681,125   | 0.06104955 | 14.62%  | 0.05741124 |\n",
       "| No contesto                                                         | 3,038,761 | 0.03040780 | 65.23%  | 0.01859914 |\n",
       "| Total                                                               | 4,658,528 | 1.71720793 | 100.00% | 1.68782643 |\n",
       "\n"
      ],
      "text/plain": [
       "   pd3_3                                                              \n",
       "1  Tendría que contratarse a otra persona en el negocio familiar      \n",
       "2  El hogar no podría sostenerse económicamente                       \n",
       "3  El ingreso del hogar se vería disminuido                           \n",
       "4  La carga de trabajo sería más pesada para los demás                \n",
       "5  El hogar tendría que destinar ingresos para los gastos de ella (él)\n",
       "6  Ella (él) ya no podría continuar estudiando                        \n",
       "7  Otra consecuencia                                                  \n",
       "8  No habría consecuencia                                             \n",
       "9  No contesto                                                        \n",
       "10 Total                                                              \n",
       "   personas  personas_cv porcentaje porcentaje_cv\n",
       "1  14,021    0.32565659  0.30%      0.32570164   \n",
       "2  83,651    0.20913015  1.80%      0.20695784   \n",
       "3  342,601   0.09376642  7.35%      0.09034549   \n",
       "4  40,804    0.21894923  0.88%      0.21855512   \n",
       "5  180,053   0.13917835  3.87%      0.13615718   \n",
       "6  270,076   0.12656774  5.80%      0.12176323   \n",
       "7  7,436     0.51250211  0.16%      0.51233554   \n",
       "8  681,125   0.06104955  14.62%     0.05741124   \n",
       "9  3,038,761 0.03040780  65.23%     0.01859914   \n",
       "10 4,658,528 1.71720793  100.00%    1.68782643   "
      ]
     },
     "metadata": {},
     "output_type": "display_data"
    }
   ],
   "source": [
    "# ------------------------------------------------ Principal consecuencia si la persona en estudio deja de trabajar\n",
    "\n",
    "traba_conse <- dm %>%\n",
    "  filter(uni_actual == 1) %>%  # Filtrar solo los casos donde uni_actual es 1\n",
    "  group_by(pd3_3) %>%  # Agrupar por la categoría original\n",
    "  summarise(\n",
    "    personas = survey_total(vartype = \"cv\", level = 0.95),\n",
    "    porcentaje = survey_prop(vartype = \"cv\", level = 0.95)\n",
    "  ) %>%\n",
    "  mutate(\n",
    "    pd3_3 = case_when(\n",
    "      pd3_3 == 1 ~ \"Tendría que contratarse a otra persona en el negocio familiar\",\n",
    "      pd3_3 == 2 ~ \"El hogar no podría sostenerse económicamente\",\n",
    "      pd3_3 == 3 ~ \"El ingreso del hogar se vería disminuido\",\n",
    "      pd3_3 == 4 ~ \"La carga de trabajo sería más pesada para los demás\",\n",
    "      pd3_3 == 5 ~ \"El hogar tendría que destinar ingresos para los gastos de ella (él)\",\n",
    "      pd3_3 == 6 ~ \"Ella (él) ya no podría continuar estudiando\",\n",
    "      pd3_3 == 7 ~ \"Otra consecuencia\",\n",
    "      pd3_3 == 8 ~ \"No habría consecuencia\",\n",
    "      pd3_3 == 10 ~ \"No contesto\",\n",
    "    )\n",
    "  ) %>%\n",
    "  adorn_totals() %>% \n",
    "  mutate(\n",
    "    personas = label_number(big.mark = \",\")(personas),\n",
    "    porcentaje = label_number(big.mark = \",\", suffix = \"%\")(porcentaje * 100)\n",
    "  )\n",
    "\n",
    "# Mostrar resultados\n",
    "traba_conse"
   ]
  },
  {
   "cell_type": "code",
   "execution_count": 21,
   "metadata": {
    "vscode": {
     "languageId": "r"
    }
   },
   "outputs": [
    {
     "data": {
      "text/html": [
       "<table class=\"dataframe\">\n",
       "<caption>A tabyl: 3 × 5</caption>\n",
       "<thead>\n",
       "\t<tr><th scope=col>pb3_12_3</th><th scope=col>personas</th><th scope=col>personas_cv</th><th scope=col>porcentaje</th><th scope=col>porcentaje_cv</th></tr>\n",
       "\t<tr><th scope=col>&lt;chr&gt;</th><th scope=col>&lt;chr&gt;</th><th scope=col>&lt;dbl&gt;</th><th scope=col>&lt;chr&gt;</th><th scope=col>&lt;dbl&gt;</th></tr>\n",
       "</thead>\n",
       "<tbody>\n",
       "\t<tr><td>Sí   </td><td>929,886  </td><td>0.05712618</td><td>20% </td><td>0.05114838</td></tr>\n",
       "\t<tr><td>No   </td><td>3,728,642</td><td>0.02754118</td><td>80% </td><td>0.01275589</td></tr>\n",
       "\t<tr><td>Total</td><td>4,658,528</td><td>0.08466736</td><td>100%</td><td>0.06390428</td></tr>\n",
       "</tbody>\n",
       "</table>\n"
      ],
      "text/latex": [
       "A tabyl: 3 × 5\n",
       "\\begin{tabular}{lllll}\n",
       " pb3\\_12\\_3 & personas & personas\\_cv & porcentaje & porcentaje\\_cv\\\\\n",
       " <chr> & <chr> & <dbl> & <chr> & <dbl>\\\\\n",
       "\\hline\n",
       "\t Sí    & 929,886   & 0.05712618 & 20\\%  & 0.05114838\\\\\n",
       "\t No    & 3,728,642 & 0.02754118 & 80\\%  & 0.01275589\\\\\n",
       "\t Total & 4,658,528 & 0.08466736 & 100\\% & 0.06390428\\\\\n",
       "\\end{tabular}\n"
      ],
      "text/markdown": [
       "\n",
       "A tabyl: 3 × 5\n",
       "\n",
       "| pb3_12_3 &lt;chr&gt; | personas &lt;chr&gt; | personas_cv &lt;dbl&gt; | porcentaje &lt;chr&gt; | porcentaje_cv &lt;dbl&gt; |\n",
       "|---|---|---|---|---|\n",
       "| Sí    | 929,886   | 0.05712618 | 20%  | 0.05114838 |\n",
       "| No    | 3,728,642 | 0.02754118 | 80%  | 0.01275589 |\n",
       "| Total | 4,658,528 | 0.08466736 | 100% | 0.06390428 |\n",
       "\n"
      ],
      "text/plain": [
       "  pb3_12_3 personas  personas_cv porcentaje porcentaje_cv\n",
       "1 Sí       929,886   0.05712618  20%        0.05114838   \n",
       "2 No       3,728,642 0.02754118  80%        0.01275589   \n",
       "3 Total    4,658,528 0.08466736  100%       0.06390428   "
      ]
     },
     "metadata": {},
     "output_type": "display_data"
    }
   ],
   "source": [
    "# ------------------------------------------------ La persona en estudio utiliza computadora de escritorio para realizar tareas, trabajos o proyectos escolares\n",
    "\n",
    "tiene_computadora <- dm %>%\n",
    "  filter(uni_actual == 1) %>%  # Filtrar solo los casos donde uni_actual es 1\n",
    "  group_by(pb3_12_3) %>%  # Agrupar por la categoría original\n",
    "  summarise(\n",
    "    personas = survey_total(vartype = \"cv\", level = 0.95),\n",
    "    porcentaje = survey_prop(vartype = \"cv\", level = 0.95)\n",
    "  ) %>%\n",
    "  mutate(\n",
    "    pb3_12_3 = case_when(\n",
    "      pb3_12_3 == 1 ~ \"Sí\",\n",
    "      pb3_12_3 == 2 ~ \"No\",\n",
    "      pb3_12_3 == 10 ~ \"No\",\n",
    "\n",
    "    )\n",
    "  ) %>%\n",
    "  adorn_totals() %>% \n",
    "  mutate(\n",
    "    personas = label_number(big.mark = \",\")(personas),\n",
    "    porcentaje = label_number(big.mark = \",\", suffix = \"%\")(porcentaje * 100)\n",
    "  )\n",
    "\n",
    "# Mostrar resultados\n",
    "tiene_computadora"
   ]
  },
  {
   "cell_type": "code",
   "execution_count": 22,
   "metadata": {
    "vscode": {
     "languageId": "r"
    }
   },
   "outputs": [
    {
     "data": {
      "text/html": [
       "<table class=\"dataframe\">\n",
       "<caption>A tabyl: 3 × 5</caption>\n",
       "<thead>\n",
       "\t<tr><th scope=col>pb3_16_1</th><th scope=col>personas</th><th scope=col>personas_cv</th><th scope=col>porcentaje</th><th scope=col>porcentaje_cv</th></tr>\n",
       "\t<tr><th scope=col>&lt;chr&gt;</th><th scope=col>&lt;chr&gt;</th><th scope=col>&lt;dbl&gt;</th><th scope=col>&lt;chr&gt;</th><th scope=col>&lt;dbl&gt;</th></tr>\n",
       "</thead>\n",
       "<tbody>\n",
       "\t<tr><td>Sí   </td><td>1,760,061</td><td>0.04054743</td><td>38% </td><td>0.03234679</td></tr>\n",
       "\t<tr><td>No   </td><td>2,898,467</td><td>0.03157410</td><td>62% </td><td>0.01964222</td></tr>\n",
       "\t<tr><td>Total</td><td>4,658,528</td><td>0.07212153</td><td>100%</td><td>0.05198901</td></tr>\n",
       "</tbody>\n",
       "</table>\n"
      ],
      "text/latex": [
       "A tabyl: 3 × 5\n",
       "\\begin{tabular}{lllll}\n",
       " pb3\\_16\\_1 & personas & personas\\_cv & porcentaje & porcentaje\\_cv\\\\\n",
       " <chr> & <chr> & <dbl> & <chr> & <dbl>\\\\\n",
       "\\hline\n",
       "\t Sí    & 1,760,061 & 0.04054743 & 38\\%  & 0.03234679\\\\\n",
       "\t No    & 2,898,467 & 0.03157410 & 62\\%  & 0.01964222\\\\\n",
       "\t Total & 4,658,528 & 0.07212153 & 100\\% & 0.05198901\\\\\n",
       "\\end{tabular}\n"
      ],
      "text/markdown": [
       "\n",
       "A tabyl: 3 × 5\n",
       "\n",
       "| pb3_16_1 &lt;chr&gt; | personas &lt;chr&gt; | personas_cv &lt;dbl&gt; | porcentaje &lt;chr&gt; | porcentaje_cv &lt;dbl&gt; |\n",
       "|---|---|---|---|---|\n",
       "| Sí    | 1,760,061 | 0.04054743 | 38%  | 0.03234679 |\n",
       "| No    | 2,898,467 | 0.03157410 | 62%  | 0.01964222 |\n",
       "| Total | 4,658,528 | 0.07212153 | 100% | 0.05198901 |\n",
       "\n"
      ],
      "text/plain": [
       "  pb3_16_1 personas  personas_cv porcentaje porcentaje_cv\n",
       "1 Sí       1,760,061 0.04054743  38%        0.03234679   \n",
       "2 No       2,898,467 0.03157410  62%        0.01964222   \n",
       "3 Total    4,658,528 0.07212153  100%       0.05198901   "
      ]
     },
     "metadata": {},
     "output_type": "display_data"
    }
   ],
   "source": [
    "# ------------------------------------------------ La persona en estudio se siente tensionada o estresado(a) debido a las actuales condiciones educativas \n",
    "\n",
    "estres <- dm %>%\n",
    "  filter(uni_actual == 1) %>%  # Filtrar solo los casos donde uni_actual es 1\n",
    "  group_by(pb3_16_1) %>%  # Agrupar por la categoría original\n",
    "  summarise(\n",
    "    personas = survey_total(vartype = \"cv\", level = 0.95),\n",
    "    porcentaje = survey_prop(vartype = \"cv\", level = 0.95)\n",
    "  ) %>%\n",
    "  mutate(\n",
    "    pb3_16_1 = case_when(\n",
    "      pb3_16_1 == 1 ~ \"Sí\",\n",
    "      pb3_16_1 == 2 ~ \"No\",\n",
    "      pb3_16_1 == 10 ~ \"No contesto\",\n",
    "    )\n",
    "  ) %>%\n",
    "  adorn_totals() %>% \n",
    "  mutate(\n",
    "    personas = label_number(big.mark = \",\")(personas),\n",
    "    porcentaje = label_number(big.mark = \",\", suffix = \"%\")(porcentaje * 100)\n",
    "  )\n",
    "\n",
    "# Mostrar resultados\n",
    "estres"
   ]
  },
  {
   "cell_type": "code",
   "execution_count": 23,
   "metadata": {
    "vscode": {
     "languageId": "r"
    }
   },
   "outputs": [
    {
     "data": {
      "text/html": [
       "<table class=\"dataframe\">\n",
       "<caption>A tabyl: 3 × 5</caption>\n",
       "<thead>\n",
       "\t<tr><th scope=col>pb3_16_2</th><th scope=col>personas</th><th scope=col>personas_cv</th><th scope=col>porcentaje</th><th scope=col>porcentaje_cv</th></tr>\n",
       "\t<tr><th scope=col>&lt;chr&gt;</th><th scope=col>&lt;chr&gt;</th><th scope=col>&lt;dbl&gt;</th><th scope=col>&lt;chr&gt;</th><th scope=col>&lt;dbl&gt;</th></tr>\n",
       "</thead>\n",
       "<tbody>\n",
       "\t<tr><td>Sí   </td><td>400,416  </td><td>0.07551106</td><td>8.6%  </td><td>0.073377911</td></tr>\n",
       "\t<tr><td>No   </td><td>4,258,112</td><td>0.02609234</td><td>91.4% </td><td>0.006900168</td></tr>\n",
       "\t<tr><td>Total</td><td>4,658,528</td><td>0.10160341</td><td>100.0%</td><td>0.080278080</td></tr>\n",
       "</tbody>\n",
       "</table>\n"
      ],
      "text/latex": [
       "A tabyl: 3 × 5\n",
       "\\begin{tabular}{lllll}\n",
       " pb3\\_16\\_2 & personas & personas\\_cv & porcentaje & porcentaje\\_cv\\\\\n",
       " <chr> & <chr> & <dbl> & <chr> & <dbl>\\\\\n",
       "\\hline\n",
       "\t Sí    & 400,416   & 0.07551106 & 8.6\\%   & 0.073377911\\\\\n",
       "\t No    & 4,258,112 & 0.02609234 & 91.4\\%  & 0.006900168\\\\\n",
       "\t Total & 4,658,528 & 0.10160341 & 100.0\\% & 0.080278080\\\\\n",
       "\\end{tabular}\n"
      ],
      "text/markdown": [
       "\n",
       "A tabyl: 3 × 5\n",
       "\n",
       "| pb3_16_2 &lt;chr&gt; | personas &lt;chr&gt; | personas_cv &lt;dbl&gt; | porcentaje &lt;chr&gt; | porcentaje_cv &lt;dbl&gt; |\n",
       "|---|---|---|---|---|\n",
       "| Sí    | 400,416   | 0.07551106 | 8.6%   | 0.073377911 |\n",
       "| No    | 4,258,112 | 0.02609234 | 91.4%  | 0.006900168 |\n",
       "| Total | 4,658,528 | 0.10160341 | 100.0% | 0.080278080 |\n",
       "\n"
      ],
      "text/plain": [
       "  pb3_16_2 personas  personas_cv porcentaje porcentaje_cv\n",
       "1 Sí       400,416   0.07551106  8.6%       0.073377911  \n",
       "2 No       4,258,112 0.02609234  91.4%      0.006900168  \n",
       "3 Total    4,658,528 0.10160341  100.0%     0.080278080  "
      ]
     },
     "metadata": {},
     "output_type": "display_data"
    }
   ],
   "source": [
    "# ------------------------------------------------ La persona en estudio se siente triste o deprimida debido a las actuales condiciones educativas\n",
    "\n",
    "deprimida <- dm %>%\n",
    "  filter(uni_actual == 1) %>%  # Filtrar solo los casos donde uni_actual es 1\n",
    "  group_by(pb3_16_2) %>%  # Agrupar por la categoría original\n",
    "  summarise(\n",
    "    personas = survey_total(vartype = \"cv\", level = 0.95),\n",
    "    porcentaje = survey_prop(vartype = \"cv\", level = 0.95)\n",
    "  ) %>%\n",
    "  mutate(\n",
    "    pb3_16_2 = case_when(\n",
    "      pb3_16_2 == 1 ~ \"Sí\",\n",
    "      pb3_16_2 == 2 ~ \"No\",\n",
    "      pb3_16_2 == 10 ~ \"No contesto\"\n",
    "    )\n",
    "  ) %>%\n",
    "  adorn_totals() %>% \n",
    "  mutate(\n",
    "    personas = label_number(big.mark = \",\")(personas),\n",
    "    porcentaje = label_number(big.mark = \",\", suffix = \"%\")(porcentaje * 100)\n",
    "  )\n",
    "\n",
    "# Mostrar resultados\n",
    "deprimida"
   ]
  },
  {
   "cell_type": "code",
   "execution_count": 24,
   "metadata": {
    "vscode": {
     "languageId": "r"
    }
   },
   "outputs": [
    {
     "data": {
      "text/html": [
       "<table class=\"dataframe\">\n",
       "<caption>A tabyl: 8 × 5</caption>\n",
       "<thead>\n",
       "\t<tr><th scope=col>pd3_1</th><th scope=col>personas</th><th scope=col>personas_cv</th><th scope=col>porcentaje</th><th scope=col>porcentaje_cv</th></tr>\n",
       "\t<tr><th scope=col>&lt;chr&gt;</th><th scope=col>&lt;chr&gt;</th><th scope=col>&lt;dbl&gt;</th><th scope=col>&lt;chr&gt;</th><th scope=col>&lt;dbl&gt;</th></tr>\n",
       "</thead>\n",
       "<tbody>\n",
       "\t<tr><td>trabajó por lo menos una hora (tenía trabajo pero no trabajó)?                                     </td><td>1,374,647</td><td>0.04793386</td><td>29.51% </td><td>0.03989142</td></tr>\n",
       "\t<tr><td>vendió o hizo algún producto para vender?                                                          </td><td>42,225   </td><td>0.30021408</td><td>0.91%  </td><td>0.29860005</td></tr>\n",
       "\t<tr><td>ayudó en las labores del campo, cría de animales, o en el negocio de un familiar o de otra persona?</td><td>129,266  </td><td>0.13055997</td><td>2.77%  </td><td>0.12948402</td></tr>\n",
       "\t<tr><td>a cambio de un pago realizó otro tipo de actividad? (lavó o planchó ajeno, cuidó niños)            </td><td>6,026    </td><td>0.43118771</td><td>0.13%  </td><td>0.43140431</td></tr>\n",
       "\t<tr><td>estuvo de aprendiz o haciendo su servicio social?                                                  </td><td>67,603   </td><td>0.17938546</td><td>1.45%  </td><td>0.17863989</td></tr>\n",
       "\t<tr><td>buscó trabajo?                                                                                     </td><td>22,579   </td><td>0.33052996</td><td>0.48%  </td><td>0.32993732</td></tr>\n",
       "\t<tr><td>Estudia o está en otra situación diferente a las anteriores                                        </td><td>3,016,182</td><td>0.03054293</td><td>64.75% </td><td>0.01878196</td></tr>\n",
       "\t<tr><td>Total                                                                                              </td><td>4,658,528</td><td>1.45035397</td><td>100.00%</td><td>1.42673898</td></tr>\n",
       "</tbody>\n",
       "</table>\n"
      ],
      "text/latex": [
       "A tabyl: 8 × 5\n",
       "\\begin{tabular}{lllll}\n",
       " pd3\\_1 & personas & personas\\_cv & porcentaje & porcentaje\\_cv\\\\\n",
       " <chr> & <chr> & <dbl> & <chr> & <dbl>\\\\\n",
       "\\hline\n",
       "\t trabajó por lo menos una hora (tenía trabajo pero no trabajó)?                                      & 1,374,647 & 0.04793386 & 29.51\\%  & 0.03989142\\\\\n",
       "\t vendió o hizo algún producto para vender?                                                           & 42,225    & 0.30021408 & 0.91\\%   & 0.29860005\\\\\n",
       "\t ayudó en las labores del campo, cría de animales, o en el negocio de un familiar o de otra persona? & 129,266   & 0.13055997 & 2.77\\%   & 0.12948402\\\\\n",
       "\t a cambio de un pago realizó otro tipo de actividad? (lavó o planchó ajeno, cuidó niños)             & 6,026     & 0.43118771 & 0.13\\%   & 0.43140431\\\\\n",
       "\t estuvo de aprendiz o haciendo su servicio social?                                                   & 67,603    & 0.17938546 & 1.45\\%   & 0.17863989\\\\\n",
       "\t buscó trabajo?                                                                                      & 22,579    & 0.33052996 & 0.48\\%   & 0.32993732\\\\\n",
       "\t Estudia o está en otra situación diferente a las anteriores                                         & 3,016,182 & 0.03054293 & 64.75\\%  & 0.01878196\\\\\n",
       "\t Total                                                                                               & 4,658,528 & 1.45035397 & 100.00\\% & 1.42673898\\\\\n",
       "\\end{tabular}\n"
      ],
      "text/markdown": [
       "\n",
       "A tabyl: 8 × 5\n",
       "\n",
       "| pd3_1 &lt;chr&gt; | personas &lt;chr&gt; | personas_cv &lt;dbl&gt; | porcentaje &lt;chr&gt; | porcentaje_cv &lt;dbl&gt; |\n",
       "|---|---|---|---|---|\n",
       "| trabajó por lo menos una hora (tenía trabajo pero no trabajó)?                                      | 1,374,647 | 0.04793386 | 29.51%  | 0.03989142 |\n",
       "| vendió o hizo algún producto para vender?                                                           | 42,225    | 0.30021408 | 0.91%   | 0.29860005 |\n",
       "| ayudó en las labores del campo, cría de animales, o en el negocio de un familiar o de otra persona? | 129,266   | 0.13055997 | 2.77%   | 0.12948402 |\n",
       "| a cambio de un pago realizó otro tipo de actividad? (lavó o planchó ajeno, cuidó niños)             | 6,026     | 0.43118771 | 0.13%   | 0.43140431 |\n",
       "| estuvo de aprendiz o haciendo su servicio social?                                                   | 67,603    | 0.17938546 | 1.45%   | 0.17863989 |\n",
       "| buscó trabajo?                                                                                      | 22,579    | 0.33052996 | 0.48%   | 0.32993732 |\n",
       "| Estudia o está en otra situación diferente a las anteriores                                         | 3,016,182 | 0.03054293 | 64.75%  | 0.01878196 |\n",
       "| Total                                                                                               | 4,658,528 | 1.45035397 | 100.00% | 1.42673898 |\n",
       "\n"
      ],
      "text/plain": [
       "  pd3_1                                                                                              \n",
       "1 trabajó por lo menos una hora (tenía trabajo pero no trabajó)?                                     \n",
       "2 vendió o hizo algún producto para vender?                                                          \n",
       "3 ayudó en las labores del campo, cría de animales, o en el negocio de un familiar o de otra persona?\n",
       "4 a cambio de un pago realizó otro tipo de actividad? (lavó o planchó ajeno, cuidó niños)            \n",
       "5 estuvo de aprendiz o haciendo su servicio social?                                                  \n",
       "6 buscó trabajo?                                                                                     \n",
       "7 Estudia o está en otra situación diferente a las anteriores                                        \n",
       "8 Total                                                                                              \n",
       "  personas  personas_cv porcentaje porcentaje_cv\n",
       "1 1,374,647 0.04793386  29.51%     0.03989142   \n",
       "2 42,225    0.30021408  0.91%      0.29860005   \n",
       "3 129,266   0.13055997  2.77%      0.12948402   \n",
       "4 6,026     0.43118771  0.13%      0.43140431   \n",
       "5 67,603    0.17938546  1.45%      0.17863989   \n",
       "6 22,579    0.33052996  0.48%      0.32993732   \n",
       "7 3,016,182 0.03054293  64.75%     0.01878196   \n",
       "8 4,658,528 1.45035397  100.00%    1.42673898   "
      ]
     },
     "metadata": {},
     "output_type": "display_data"
    }
   ],
   "source": [
    "# ------------------------------------------------ Principal consecuencia si la persona en estudio deja de trabajar\n",
    "\n",
    "condicion_actividad <- dm %>%\n",
    "  filter(uni_actual == 1) %>%  # Filtrar solo los casos donde uni_actual es 1\n",
    "  group_by(pd3_1) %>%  # Agrupar por la categoría original\n",
    "  summarise(\n",
    "    personas = survey_total(vartype = \"cv\", level = 0.95),\n",
    "    porcentaje = survey_prop(vartype = \"cv\", level = 0.95)\n",
    "  ) %>%\n",
    "  mutate(\n",
    "    pd3_1 = case_when(\n",
    "      pd3_1 == 1 ~ \"trabajó por lo menos una hora (tenía trabajo pero no trabajó)?\",\n",
    "      pd3_1 == 2 ~ \"vendió o hizo algún producto para vender?\",\n",
    "      pd3_1 == 3 ~ \"ayudó en las labores del campo, cría de animales, o en el negocio de un familiar o de otra persona?\",\n",
    "      pd3_1 == 4 ~ \"a cambio de un pago realizó otro tipo de actividad? (lavó o planchó ajeno, cuidó niños)\",\n",
    "      pd3_1 == 5 ~ \"estuvo de aprendiz o haciendo su servicio social?\",\n",
    "      pd3_1 == 6 ~ \"buscó trabajo?\",\n",
    "      pd3_1 == 7 ~ \"Estudia o está en otra situación diferente a las anteriores\",\n",
    "      pd3_1 == 10 ~ \"No contesto\"\n",
    "    )\n",
    "  ) %>%\n",
    "  adorn_totals() %>% \n",
    "  mutate(\n",
    "    personas = label_number(big.mark = \",\")(personas),\n",
    "    porcentaje = label_number(big.mark = \",\", suffix = \"%\")(porcentaje * 100)\n",
    "  )\n",
    "\n",
    "# Mostrar resultados\n",
    "condicion_actividad"
   ]
  },
  {
   "cell_type": "code",
   "execution_count": 25,
   "metadata": {
    "vscode": {
     "languageId": "r"
    }
   },
   "outputs": [
    {
     "data": {
      "text/html": [
       "<table class=\"dataframe\">\n",
       "<caption>A tabyl: 3 × 5</caption>\n",
       "<thead>\n",
       "\t<tr><th scope=col>pb3_3</th><th scope=col>personas</th><th scope=col>personas_cv</th><th scope=col>porcentaje</th><th scope=col>porcentaje_cv</th></tr>\n",
       "\t<tr><th scope=col>&lt;chr&gt;</th><th scope=col>&lt;chr&gt;</th><th scope=col>&lt;dbl&gt;</th><th scope=col>&lt;chr&gt;</th><th scope=col>&lt;dbl&gt;</th></tr>\n",
       "</thead>\n",
       "<tbody>\n",
       "\t<tr><td>Pública</td><td>3,551,350</td><td>0.02818509</td><td>76% </td><td>0.01428196</td></tr>\n",
       "\t<tr><td>Privada</td><td>1,107,178</td><td>0.05248665</td><td>24% </td><td>0.04581036</td></tr>\n",
       "\t<tr><td>Total  </td><td>4,658,528</td><td>0.08067174</td><td>100%</td><td>0.06009232</td></tr>\n",
       "</tbody>\n",
       "</table>\n"
      ],
      "text/latex": [
       "A tabyl: 3 × 5\n",
       "\\begin{tabular}{lllll}\n",
       " pb3\\_3 & personas & personas\\_cv & porcentaje & porcentaje\\_cv\\\\\n",
       " <chr> & <chr> & <dbl> & <chr> & <dbl>\\\\\n",
       "\\hline\n",
       "\t Pública & 3,551,350 & 0.02818509 & 76\\%  & 0.01428196\\\\\n",
       "\t Privada & 1,107,178 & 0.05248665 & 24\\%  & 0.04581036\\\\\n",
       "\t Total   & 4,658,528 & 0.08067174 & 100\\% & 0.06009232\\\\\n",
       "\\end{tabular}\n"
      ],
      "text/markdown": [
       "\n",
       "A tabyl: 3 × 5\n",
       "\n",
       "| pb3_3 &lt;chr&gt; | personas &lt;chr&gt; | personas_cv &lt;dbl&gt; | porcentaje &lt;chr&gt; | porcentaje_cv &lt;dbl&gt; |\n",
       "|---|---|---|---|---|\n",
       "| Pública | 3,551,350 | 0.02818509 | 76%  | 0.01428196 |\n",
       "| Privada | 1,107,178 | 0.05248665 | 24%  | 0.04581036 |\n",
       "| Total   | 4,658,528 | 0.08067174 | 100% | 0.06009232 |\n",
       "\n"
      ],
      "text/plain": [
       "  pb3_3   personas  personas_cv porcentaje porcentaje_cv\n",
       "1 Pública 3,551,350 0.02818509  76%        0.01428196   \n",
       "2 Privada 1,107,178 0.05248665  24%        0.04581036   \n",
       "3 Total   4,658,528 0.08067174  100%       0.06009232   "
      ]
     },
     "metadata": {},
     "output_type": "display_data"
    }
   ],
   "source": [
    "# ------------------------------------------------ Tipo de escuela\n",
    "\n",
    "tipo_escuela <- dm %>%\n",
    "  filter(uni_actual == 1) %>%  # Filtrar solo los casos donde uni_actual es 1\n",
    "  group_by(pb3_3) %>%  # Agrupar por la categoría original\n",
    "  summarise(\n",
    "    personas = survey_total(vartype = \"cv\", level = 0.95),\n",
    "    porcentaje = survey_prop(vartype = \"cv\", level = 0.95)\n",
    "  ) %>%\n",
    "  mutate(\n",
    "    pb3_3 = case_when(\n",
    "      pb3_3 == 1 ~ \"Pública\",\n",
    "      pb3_3 == 2 ~ \"Privada\",\n",
    "      pb3_3 == 10 ~ \"No contesto\",\n",
    "\n",
    "    )\n",
    "  ) %>%\n",
    "  adorn_totals() %>% \n",
    "  mutate(\n",
    "    personas = label_number(big.mark = \",\")(personas),\n",
    "    porcentaje = label_number(big.mark = \",\", suffix = \"%\")(porcentaje * 100)\n",
    "  )\n",
    "\n",
    "# Mostrar resultados\n",
    "tipo_escuela"
   ]
  },
  {
   "cell_type": "code",
   "execution_count": 26,
   "metadata": {
    "vscode": {
     "languageId": "r"
    }
   },
   "outputs": [
    {
     "data": {
      "text/html": [
       "<table class=\"dataframe\">\n",
       "<caption>A tabyl: 5 × 5</caption>\n",
       "<thead>\n",
       "\t<tr><th scope=col>pa3_6</th><th scope=col>personas</th><th scope=col>personas_cv</th><th scope=col>porcentaje</th><th scope=col>porcentaje_cv</th></tr>\n",
       "\t<tr><th scope=col>&lt;chr&gt;</th><th scope=col>&lt;chr&gt;</th><th scope=col>&lt;dbl&gt;</th><th scope=col>&lt;chr&gt;</th><th scope=col>&lt;dbl&gt;</th></tr>\n",
       "</thead>\n",
       "<tbody>\n",
       "\t<tr><td>reprobó                     </td><td>81,858   </td><td>0.17560872</td><td>1.8%  </td><td>0.174417553</td></tr>\n",
       "\t<tr><td>solo aprobó algunas materias</td><td>25,885   </td><td>0.23671630</td><td>0.6%  </td><td>0.236811027</td></tr>\n",
       "\t<tr><td>aprobó                      </td><td>4,160,917</td><td>0.02614093</td><td>89.3% </td><td>0.008678456</td></tr>\n",
       "\t<tr><td>no contesto                 </td><td>389,868  </td><td>0.08916781</td><td>8.4%  </td><td>0.085339480</td></tr>\n",
       "\t<tr><td>Total                       </td><td>4,658,528</td><td>0.52763376</td><td>100.0%</td><td>0.505246517</td></tr>\n",
       "</tbody>\n",
       "</table>\n"
      ],
      "text/latex": [
       "A tabyl: 5 × 5\n",
       "\\begin{tabular}{lllll}\n",
       " pa3\\_6 & personas & personas\\_cv & porcentaje & porcentaje\\_cv\\\\\n",
       " <chr> & <chr> & <dbl> & <chr> & <dbl>\\\\\n",
       "\\hline\n",
       "\t reprobó                      & 81,858    & 0.17560872 & 1.8\\%   & 0.174417553\\\\\n",
       "\t solo aprobó algunas materias & 25,885    & 0.23671630 & 0.6\\%   & 0.236811027\\\\\n",
       "\t aprobó                       & 4,160,917 & 0.02614093 & 89.3\\%  & 0.008678456\\\\\n",
       "\t no contesto                  & 389,868   & 0.08916781 & 8.4\\%   & 0.085339480\\\\\n",
       "\t Total                        & 4,658,528 & 0.52763376 & 100.0\\% & 0.505246517\\\\\n",
       "\\end{tabular}\n"
      ],
      "text/markdown": [
       "\n",
       "A tabyl: 5 × 5\n",
       "\n",
       "| pa3_6 &lt;chr&gt; | personas &lt;chr&gt; | personas_cv &lt;dbl&gt; | porcentaje &lt;chr&gt; | porcentaje_cv &lt;dbl&gt; |\n",
       "|---|---|---|---|---|\n",
       "| reprobó                      | 81,858    | 0.17560872 | 1.8%   | 0.174417553 |\n",
       "| solo aprobó algunas materias | 25,885    | 0.23671630 | 0.6%   | 0.236811027 |\n",
       "| aprobó                       | 4,160,917 | 0.02614093 | 89.3%  | 0.008678456 |\n",
       "| no contesto                  | 389,868   | 0.08916781 | 8.4%   | 0.085339480 |\n",
       "| Total                        | 4,658,528 | 0.52763376 | 100.0% | 0.505246517 |\n",
       "\n"
      ],
      "text/plain": [
       "  pa3_6                        personas  personas_cv porcentaje porcentaje_cv\n",
       "1 reprobó                      81,858    0.17560872  1.8%       0.174417553  \n",
       "2 solo aprobó algunas materias 25,885    0.23671630  0.6%       0.236811027  \n",
       "3 aprobó                       4,160,917 0.02614093  89.3%      0.008678456  \n",
       "4 no contesto                  389,868   0.08916781  8.4%       0.085339480  \n",
       "5 Total                        4,658,528 0.52763376  100.0%     0.505246517  "
      ]
     },
     "metadata": {},
     "output_type": "display_data"
    }
   ],
   "source": [
    "# ------------------------------------------------ Condición de aprobacion de materias\n",
    "aprobacion_materias <- dm %>%\n",
    "  filter(uni_actual == 1) %>%  # Filtrar solo los casos donde uni_actual es 1\n",
    "  group_by(pa3_6) %>%  # Agrupar por la categoría original\n",
    "  summarise(\n",
    "    personas = survey_total(vartype = \"cv\", level = 0.95),\n",
    "    porcentaje = survey_prop(vartype = \"cv\", level = 0.95)\n",
    "  ) %>%\n",
    "  mutate(\n",
    "    pa3_6 = case_when(\n",
    "      pa3_6 == 1 ~ \"reprobó\",\n",
    "      pa3_6 == 2 ~ \"solo aprobó algunas materias\",\n",
    "      pa3_6 == 3 ~ \"aprobó\",\n",
    "      pa3_6 == 10 ~ \"no contesto\"\n",
    "    )\n",
    "  ) %>%\n",
    "  adorn_totals() %>% \n",
    "  mutate(\n",
    "    personas = label_number(big.mark = \",\")(personas),\n",
    "    porcentaje = label_number(big.mark = \",\", suffix = \"%\")(porcentaje * 100)\n",
    "  )\n",
    "\n",
    "# Mostrar resultados\n",
    "aprobacion_materias"
   ]
  },
  {
   "cell_type": "code",
   "execution_count": 27,
   "metadata": {
    "vscode": {
     "languageId": "r"
    }
   },
   "outputs": [
    {
     "data": {
      "text/plain": [
       "Call:\n",
       "   aov(formula = pa3_6 ~ as.factor(pa3_8_6) * as.factor(pb3_16_1) + \n",
       "    as.factor(pb3_3) * as.factor(pb3_16_1) + as.factor(pb3_9_3) + \n",
       "    as.factor(pd3_3) + as.factor(pb3_12_3) + as.factor(pb3_16_2) + \n",
       "    as.factor(pd3_1), data = dm %>% filter(uni_actual == 1) %>% \n",
       "    drop_na(pb3_6, pa3_8_6, pb3_9_3, pd3_3, pb3_12_3, pb3_16_1, \n",
       "        pb3_16_2, pd3_1, pb3_3, pa3_6))\n",
       "\n",
       "Terms:\n",
       "                as.factor(pa3_8_6) as.factor(pb3_16_1) as.factor(pb3_3)\n",
       "Sum of Squares           11216.731               0.764            0.036\n",
       "Deg. of Freedom                  2                   1                1\n",
       "                as.factor(pb3_9_3) as.factor(pd3_3) as.factor(pb3_12_3)\n",
       "Sum of Squares               0.069            0.195               0.001\n",
       "Deg. of Freedom                  2                8                   1\n",
       "                as.factor(pb3_16_2) as.factor(pd3_1)\n",
       "Sum of Squares                0.153            0.757\n",
       "Deg. of Freedom                   1                5\n",
       "                as.factor(pa3_8_6):as.factor(pb3_16_1)\n",
       "Sum of Squares                                   0.064\n",
       "Deg. of Freedom                                      2\n",
       "                as.factor(pb3_16_1):as.factor(pb3_3) Residuals\n",
       "Sum of Squares                                 0.013   272.256\n",
       "Deg. of Freedom                                    1      3395\n",
       "\n",
       "Residual standard error: 0.2831843\n",
       "1 out of 26 effects not estimable\n",
       "Estimated effects may be unbalanced"
      ]
     },
     "metadata": {},
     "output_type": "display_data"
    }
   ],
   "source": [
    "anova <- aov(pa3_6 ~ as.factor(pa3_8_6) * as.factor(pb3_16_1) + \n",
    "                            as.factor(pb3_3) * as.factor(pb3_16_1) + \n",
    "                            as.factor(pb3_9_3) + as.factor(pd3_3) + \n",
    "                            as.factor(pb3_12_3) + as.factor(pb3_16_2) + \n",
    "                            as.factor(pd3_1), \n",
    "                   data = dm %>%\n",
    "                     filter(uni_actual == 1) %>%\n",
    "                     drop_na(pb3_6, pa3_8_6, pb3_9_3, pd3_3, pb3_12_3, \n",
    "                             pb3_16_1, pb3_16_2, pd3_1, pb3_3, pa3_6))\n",
    "anova\n"
   ]
  },
  {
   "cell_type": "code",
   "execution_count": 28,
   "metadata": {
    "vscode": {
     "languageId": "r"
    }
   },
   "outputs": [
    {
     "data": {
      "text/plain": [
       "                                         Df Sum Sq Mean Sq   F value  Pr(>F)\n",
       "as.factor(pa3_8_6)                        2  11217    5608 69935.558 < 2e-16\n",
       "as.factor(pb3_16_1)                       1      1       1     9.525 0.00204\n",
       "as.factor(pb3_3)                          1      0       0     0.454 0.50064\n",
       "as.factor(pb3_9_3)                        2      0       0     0.431 0.65019\n",
       "as.factor(pd3_3)                          8      0       0     0.304 0.96472\n",
       "as.factor(pb3_12_3)                       1      0       0     0.018 0.89296\n",
       "as.factor(pb3_16_2)                       1      0       0     1.902 0.16792\n",
       "as.factor(pd3_1)                          5      1       0     1.888 0.09306\n",
       "as.factor(pa3_8_6):as.factor(pb3_16_1)    2      0       0     0.397 0.67205\n",
       "as.factor(pb3_16_1):as.factor(pb3_3)      1      0       0     0.157 0.69184\n",
       "Residuals                              3395    272       0                  \n",
       "                                          \n",
       "as.factor(pa3_8_6)                     ***\n",
       "as.factor(pb3_16_1)                    ** \n",
       "as.factor(pb3_3)                          \n",
       "as.factor(pb3_9_3)                        \n",
       "as.factor(pd3_3)                          \n",
       "as.factor(pb3_12_3)                       \n",
       "as.factor(pb3_16_2)                       \n",
       "as.factor(pd3_1)                       .  \n",
       "as.factor(pa3_8_6):as.factor(pb3_16_1)    \n",
       "as.factor(pb3_16_1):as.factor(pb3_3)      \n",
       "Residuals                                 \n",
       "---\n",
       "Signif. codes:  0 '***' 0.001 '**' 0.01 '*' 0.05 '.' 0.1 ' ' 1"
      ]
     },
     "metadata": {},
     "output_type": "display_data"
    }
   ],
   "source": [
    "summary(anova)\n"
   ]
  },
  {
   "cell_type": "code",
   "execution_count": 30,
   "metadata": {
    "vscode": {
     "languageId": "r"
    }
   },
   "outputs": [],
   "source": [
    "# Definir el tamaño de la visualización en Jupyter Notebook o RStudio\n",
    "options(repr.plot.width = 14, repr.plot.height = 7)  # 🔹 Ajusta el tamaño del gráfico en la visualización"
   ]
  },
  {
   "cell_type": "code",
   "execution_count": 36,
   "metadata": {
    "vscode": {
     "languageId": "r"
    }
   },
   "outputs": [
    {
     "data": {
      "image/png": "[encoded data removed]",
      "text/plain": [
       "plot without title"
      ]
     },
     "metadata": {
      "image/png": {
       "height": 420,
       "width": 840
      }
     },
     "output_type": "display_data"
    }
   ],
   "source": [
    "library(ggplot2)\n",
    "library(dplyr)\n",
    "library(tidyr)\n",
    "\n",
    "# Crear el dataframe con los resultados del ANOVA\n",
    "anova_results <- data.frame(\n",
    "  Variable = c(\"pa3_8_6\", \"pb3_16_1\", \"pb3_3\", \"pb3_9_3\", \"pd3_3\", \"pb3_12_3\", \"pb3_16_2\",\n",
    "               \"pa3_8_6 * pb3_16_1\", \"pb3_16_1 * pb3_3\"),\n",
    "  F_value = c(69935.558, 9.528, 0.454, 0.431, 1.808, 1.902, 1.902, 0.397, 0.157),\n",
    "  Pr_F = c(2e-16, 0.00204, 0.50064, 0.56196, 0.89296, 0.79472, 0.67925, 0.67285, 0.69184)\n",
    ")\n",
    "\n",
    "# Transformar valores de p a una escala de significancia\n",
    "anova_results <- anova_results %>%\n",
    "  mutate(Significancia = case_when(\n",
    "    Pr_F < 0.001 ~ \"***\",\n",
    "    Pr_F < 0.01  ~ \"**\",\n",
    "    Pr_F < 0.05  ~ \"*\",\n",
    "    Pr_F < 0.1   ~ \".\",\n",
    "    TRUE         ~ \" \"\n",
    "  ))\n",
    "\n",
    "# Crear el mapa de calor con valores de F\n",
    "ggplot(anova_results, aes(x = Variable, y = \"F-Value\", fill = F_value)) +\n",
    "  geom_tile(color = \"white\", size = 0.5) +  # Borde blanco entre celdas\n",
    "  scale_fill_gradientn(colors = c(\"#fde0ef\", \"#f7a6d2\")) +  # Degradado en tonos rosas\n",
    "  geom_text(aes(label = paste0(round(F_value, 2), \" \", Significancia)), size = 5, color = \"black\") +  # Mostrar valores en celdas\n",
    "  labs(\n",
    "    title = \"Mapa de Calor: Valores F del ANOVA\",\n",
    "    subtitle = \"(Visualización de la significancia estadística)\",\n",
    "    x = \"Variables Predictoras\",\n",
    "    y = \"\",\n",
    "    fill = \"F-Value\"\n",
    "  ) +\n",
    "  theme_minimal() +\n",
    "  theme(\n",
    "    plot.title = element_text(size = 18, face = \"bold\", hjust = 0.5),\n",
    "    plot.subtitle = element_text(size = 14, hjust = 0.5),\n",
    "    axis.text.x = element_text(size = 12, angle = 45, hjust = 1),  # Mejor ajuste de etiquetas\n",
    "    axis.text.y = element_blank(),  # Ocultar eje Y porque solo hay \"F-Value\"\n",
    "    legend.position = \"bottom\",\n",
    "    legend.title = element_text(size = 12),\n",
    "    legend.text = element_text(size = 10)\n",
    "  )\n"
   ]
  },
  {
   "cell_type": "code",
   "execution_count": 57,
   "metadata": {
    "vscode": {
     "languageId": "r"
    }
   },
   "outputs": [
    {
     "data": {
      "image/png": "[encoded data removed]",
      "text/plain": [
       "plot without title"
      ]
     },
     "metadata": {
      "image/png": {
       "height": 420,
       "width": 840
      }
     },
     "output_type": "display_data"
    }
   ],
   "source": [
    "# Filtrar y limpiar datos (eliminar NA)\n",
    "pca_data <- dm %>%\n",
    "  filter(uni_actual == 1) %>%\n",
    "  drop_na(pa3_6, pa3_8_6, pb3_9_3, pd3_3, pb3_12_3, \n",
    "          pb3_16_1, pb3_16_2, pd3_1, pb3_3) %>%\n",
    "  select(pa3_6, pa3_8_6, pb3_9_3, pd3_3, pb3_12_3, \n",
    "         pb3_16_1, pb3_16_2, pd3_1, pb3_3)\n",
    "\n",
    "# Convertir variables categóricas a factores numéricos\n",
    "pca_data <- pca_data %>%\n",
    "  mutate(across(everything(), as.numeric))\n",
    "\n",
    "# Realizar Análisis de Componentes Principales (PCA)\n",
    "pca_result <- PCA(pca_data, scale.unit = TRUE, ncp = 10, graph = FALSE)\n",
    "\n",
    "# Visualizar la varianza explicada con aumento en el tamaño de letra\n",
    "fviz_eig(pca_result, addlabels = TRUE, barfill = \"#f06292\", barcolor = \"#ffffff\") +\n",
    "  labs(title = \"Varianza Explicada por los Componentes Principales\") +\n",
    "  theme_minimal() +\n",
    "  theme(\n",
    "    plot.title = element_text(size = 35, face = \"bold\"),  # Título más grande\n",
    "    axis.title = element_text(size = 20),  # Tamaño de títulos de ejes\n",
    "    axis.text = element_text(size = 18),  # Tamaño de etiquetas de ejes\n",
    "    legend.text = element_text(size = 25)  # Tamaño de etiquetas de la leyenda\n",
    "  )\n",
    "\n"
   ]
  },
  {
   "cell_type": "code",
   "execution_count": 56,
   "metadata": {
    "vscode": {
     "languageId": "r"
    }
   },
   "outputs": [
    {
     "data": {
      "text/plain": [
       "**Results for the Principal Component Analysis (PCA)**\n",
       "The analysis was performed on 3420 individuals, described by 9 variables\n",
       "*The results are available in the following objects:\n",
       "\n",
       "   name               description                          \n",
       "1  \"$eig\"             \"eigenvalues\"                        \n",
       "2  \"$var\"             \"results for the variables\"          \n",
       "3  \"$var$coord\"       \"coord. for the variables\"           \n",
       "4  \"$var$cor\"         \"correlations variables - dimensions\"\n",
       "5  \"$var$cos2\"        \"cos2 for the variables\"             \n",
       "6  \"$var$contrib\"     \"contributions of the variables\"     \n",
       "7  \"$ind\"             \"results for the individuals\"        \n",
       "8  \"$ind$coord\"       \"coord. for the individuals\"         \n",
       "9  \"$ind$cos2\"        \"cos2 for the individuals\"           \n",
       "10 \"$ind$contrib\"     \"contributions of the individuals\"   \n",
       "11 \"$call\"            \"summary statistics\"                 \n",
       "12 \"$call$centre\"     \"mean of the variables\"              \n",
       "13 \"$call$ecart.type\" \"standard error of the variables\"    \n",
       "14 \"$call$row.w\"      \"weights for the individuals\"        \n",
       "15 \"$call$col.w\"      \"weights for the variables\"          "
      ]
     },
     "metadata": {},
     "output_type": "display_data"
    }
   ],
   "source": [
    "pca_result"
   ]
  },
  {
   "cell_type": "code",
   "execution_count": 66,
   "metadata": {
    "vscode": {
     "languageId": "r"
    }
   },
   "outputs": [
    {
     "data": {
      "image/png": "[encoded data removed]",
      "text/plain": [
       "plot without title"
      ]
     },
     "metadata": {
      "image/png": {
       "height": 420,
       "width": 840
      }
     },
     "output_type": "display_data"
    }
   ],
   "source": [
    "fviz_pca_ind(pca_result, geom = \"point\", col.ind = \"cos2\",\n",
    "             gradient.cols = c(\"#fde0ef\", \"#f7a6d2\", \"#f06292\", \"#e91e63\", \"#880e4f\"),\n",
    "             repel = TRUE) +\n",
    "  labs(title = \"Mapa de estudiantes en el PCA\") +\n",
    "  theme_minimal() +\n",
    "  theme(\n",
    "    plot.title = element_text(size = 35, face = \"bold\"),  # Título más grande\n",
    "    axis.title = element_text(size = 20),  # Tamaño de títulos de ejes\n",
    "    axis.text = element_text(size = 20),  # Tamaño de etiquetas de ejes\n",
    "    legend.text = element_text(size = 20),  # Tamaño de etiquetas de la leyenda\n",
    "    legend.title = element_text(size = 20)  # Tamaño del título de la leyenda\n",
    "  )\n"
   ]
  },
  {
   "cell_type": "markdown",
   "metadata": {},
   "source": [
    "#### 📊 Análisis de Factores que Influyen en el Rendimiento Académico  \n",
    "\n",
    "##### **📌 1️⃣ ¿Cuáles son las correlaciones más significativas entre las variables y el rendimiento académico?**\n",
    "\n",
    "##### **Variables más significativas (`Pr(>F) < 0.05`)**  \n",
    "✅ **`pa3_8_6`** (Persona evaluada con asistencia) → **Muy significativa (`p < 2e-16, ***`)**  \n",
    "✅ **`pb3_16_1`** (Se siente tensionado o estresado) → **Significativa (`p = 0.00204, **`)**  \n",
    "✅ **`pd3_1`** (Condición de actividad) → **Marginalmente significativa (`p = 0.09306, .`)**  \n",
    "\n",
    "##### **Variables con menor impacto (`p > 0.05, no significativas`)**  \n",
    "🔹 `pb3_3` (Tipo de escuela pública/privada)  \n",
    "🔹 `pb3_9_3` (Regularización en la escuela)  \n",
    "🔹 `pd3_3` (Consecuencias si deja de trabajar)  \n",
    "🔹 `pb3_12_3` (Uso de computadora)  \n",
    "🔹 `pb3_16_2` (Se siente triste o deprimido)  \n",
    "\n",
    "📌 **Conclusión:** **La asistencia (`pa3_8_6`) y el nivel de estrés (`pb3_16_1`) son los factores más influyentes en el rendimiento académico (`pa3_6`).**  \n",
    "\n",
    "---\n",
    "\n",
    "##### **📌 2️⃣ ¿Es posible reducir la dimensionalidad sin perder información importante?**\n",
    "A partir del **PCA**, observamos que los **primeros 3-4 componentes principales capturan más del 60% de la varianza**:\n",
    "\n",
    "📊 **Varianza Explicada**  \n",
    "- **CP1** → **23.2%**  \n",
    "- **CP2** → **19.4%**  \n",
    "- **CP3** → **14.9%**  \n",
    "- **CP4** → **11.3%**  \n",
    "\n",
    "📌 **Conclusión:**  \n",
    "✅ **Reducir a los primeros 3-4 componentes permite conservar más del 60% de la información sin perder detalles clave sobre el rendimiento académico.**  \n",
    "✅ **Componentes posteriores (`CP6 en adelante`) aportan poca información y pueden descartarse.**  \n",
    "\n",
    "---\n",
    "\n",
    "##### **📌 3️⃣ ¿Qué factores principales explican la mayor variabilidad en los datos sobre el rendimiento académico?**\n",
    "\n",
    "##### **Variables con mayor contribución en `CP1` (factor más importante)**  \n",
    "🔹 `pa3_8_6` (Persona evaluada con asistencia)  \n",
    "🔹 `pb3_16_1` (Se siente tensionado/estresado)  \n",
    "🔹 `pb3_3` (Tipo de escuela)  \n",
    "🔹 `pb3_9_3` (Regularización en la escuela)  \n",
    "\n",
    "##### **Variables con mayor contribución en `CP2`**  \n",
    "🔹 `pd3_1` (Condición de actividad)  \n",
    "🔹 `pd3_3` (Consecuencias de dejar de trabajar)  \n",
    "🔹 `pb3_16_2` (Se siente triste/deprimido)  \n",
    "\n",
    "📌 **Conclusión:**  \n",
    "✅ **El rendimiento académico está fuertemente influenciado por la asistencia a clases, el nivel de estrés y el tipo de escuela.**  \n",
    "✅ **Factores emocionales y la condición laboral también explican parte de la variabilidad, pero en menor medida.**  "
   ]
  }
 ],
 "metadata": {
  "kernelspec": {
   "display_name": "R",
   "language": "R",
   "name": "ir"
  },
  "language_info": {
   "codemirror_mode": "r",
   "file_extension": ".r",
   "mimetype": "text/x-r-source",
   "name": "R",
   "pygments_lexer": "r",
   "version": "4.4.0"
  }
 },
 "nbformat": 4,
 "nbformat_minor": 2
}
