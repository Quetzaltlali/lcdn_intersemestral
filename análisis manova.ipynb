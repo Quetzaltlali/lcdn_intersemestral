{
 "cells": [
  {
   "cell_type": "markdown",
   "metadata": {},
   "source": [
    "\n",
    "<div style=\"text-align: center;\">\n",
    "  <h3>📊 Análisis MANOVA</h3>\n",
    "</div>\n",
    "\n",
    "\n",
    "### 📝 Estadística Multivariada  \n",
    "**Profesora: Rocío Leonel Gómez**  \n",
    "\n",
    "---\n",
    "\n",
    "### 🌍 Introducción  \n",
    "Antes de realizar MANOVA, se deben cumplir los siguientes supuestos: \n",
    "#### 📝 1) Independencia de las observaciones  \n",
    "Cada sujeto pertenece solo a un grupo de tratamiento, sin influencias entre ellos.  \n",
    "\n",
    "#### 📈 2) Normalidad multivariante  \n",
    "Las variables dependientes deben seguir una distribución normal conjunta dentro de cada grupo.  \n",
    "\n",
    "#### 📊 3) Homogeneidad de matrices de covarianza (Prueba de Box)  \n",
    "Las varianzas y covarianzas de las variables dependientes deben ser similares entre los grupos.  \n",
    "\n",
    "#### 🔄 4) Ausencia de multicolinealidad  \n",
    "Las variables dependientes no deben estar altamente correlacionadas; de lo contrario, MANOVA perdería poder explicativo.  \n"
   ]
  },
  {
   "cell_type": "code",
   "execution_count": 1,
   "metadata": {
    "vscode": {
     "languageId": "r"
    }
   },
   "outputs": [
    {
     "name": "stderr",
     "output_type": "stream",
     "text": [
      "Warning message:\n",
      "\"package 'ggplot2' was built under R version 4.4.2\"\n",
      "Warning message:\n",
      "\"package 'dplyr' was built under R version 4.4.2\"\n",
      "Warning message:\n",
      "\"package 'stringr' was built under R version 4.4.1\"\n",
      "── \u001b[1mAttaching core tidyverse packages\u001b[22m ──────────────────────── tidyverse 2.0.0 ──\n",
      "\u001b[32m✔\u001b[39m \u001b[34mdplyr    \u001b[39m 1.1.4     \u001b[32m✔\u001b[39m \u001b[34mreadr    \u001b[39m 2.1.5\n",
      "\u001b[32m✔\u001b[39m \u001b[34mforcats  \u001b[39m 1.0.0     \u001b[32m✔\u001b[39m \u001b[34mstringr  \u001b[39m 1.5.1\n",
      "\u001b[32m✔\u001b[39m \u001b[34mggplot2  \u001b[39m 3.5.1     \u001b[32m✔\u001b[39m \u001b[34mtibble   \u001b[39m 3.2.1\n",
      "\u001b[32m✔\u001b[39m \u001b[34mlubridate\u001b[39m 1.9.3     \u001b[32m✔\u001b[39m \u001b[34mtidyr    \u001b[39m 1.3.1\n",
      "\u001b[32m✔\u001b[39m \u001b[34mpurrr    \u001b[39m 1.0.2     \n",
      "── \u001b[1mConflicts\u001b[22m ────────────────────────────────────────── tidyverse_conflicts() ──\n",
      "\u001b[31m✖\u001b[39m \u001b[34mdplyr\u001b[39m::\u001b[32mfilter()\u001b[39m masks \u001b[34mstats\u001b[39m::filter()\n",
      "\u001b[31m✖\u001b[39m \u001b[34mdplyr\u001b[39m::\u001b[32mlag()\u001b[39m    masks \u001b[34mstats\u001b[39m::lag()\n",
      "\u001b[36mℹ\u001b[39m Use the conflicted package (\u001b[3m\u001b[34m<http://conflicted.r-lib.org/>\u001b[39m\u001b[23m) to force all conflicts to become errors\n"
     ]
    }
   ],
   "source": [
    "library(tidyverse)"
   ]
  },
  {
   "cell_type": "code",
   "execution_count": 2,
   "metadata": {
    "vscode": {
     "languageId": "r"
    }
   },
   "outputs": [
    {
     "data": {
      "text/html": [
       "<table class=\"dataframe\">\n",
       "<caption>A data.frame: 90 × 3</caption>\n",
       "<thead>\n",
       "\t<tr><th scope=col>Dieta</th><th scope=col>Peso</th><th scope=col>Colesterol</th></tr>\n",
       "\t<tr><th scope=col>&lt;chr&gt;</th><th scope=col>&lt;dbl&gt;</th><th scope=col>&lt;dbl&gt;</th></tr>\n",
       "</thead>\n",
       "<tbody>\n",
       "\t<tr><td>A</td><td>72.48357</td><td>167.9659</td></tr>\n",
       "\t<tr><td>A</td><td>69.30868</td><td>217.0456</td></tr>\n",
       "\t<tr><td>A</td><td>73.23844</td><td>179.7301</td></tr>\n",
       "\t<tr><td>A</td><td>77.61515</td><td>158.8458</td></tr>\n",
       "\t<tr><td>A</td><td>68.82923</td><td>196.4509</td></tr>\n",
       "\t<tr><td>A</td><td>68.82932</td><td>155.5831</td></tr>\n",
       "\t<tr><td>A</td><td>77.89606</td><td>184.1773</td></tr>\n",
       "\t<tr><td>A</td><td>73.83717</td><td>140.8066</td></tr>\n",
       "\t<tr><td>A</td><td>67.65263</td><td>153.4363</td></tr>\n",
       "\t<tr><td>A</td><td>72.71280</td><td>183.9372</td></tr>\n",
       "\t<tr><td>A</td><td>67.68291</td><td>194.7693</td></tr>\n",
       "\t<tr><td>A</td><td>67.67135</td><td>183.4274</td></tr>\n",
       "\t<tr><td>A</td><td>71.20981</td><td>177.6870</td></tr>\n",
       "\t<tr><td>A</td><td>60.43360</td><td>173.9779</td></tr>\n",
       "\t<tr><td>A</td><td>61.37541</td><td>150.4296</td></tr>\n",
       "\t<tr><td>A</td><td>67.18856</td><td>165.6031</td></tr>\n",
       "\t<tr><td>A</td><td>64.93584</td><td>170.7872</td></tr>\n",
       "\t<tr><td>A</td><td>71.57124</td><td>201.1424</td></tr>\n",
       "\t<tr><td>A</td><td>65.45988</td><td>186.8724</td></tr>\n",
       "\t<tr><td>A</td><td>62.93848</td><td>144.7392</td></tr>\n",
       "\t<tr><td>A</td><td>77.32824</td><td>186.4817</td></tr>\n",
       "\t<tr><td>A</td><td>68.87112</td><td>172.2984</td></tr>\n",
       "\t<tr><td>A</td><td>70.33764</td><td>166.4616</td></tr>\n",
       "\t<tr><td>A</td><td>62.87626</td><td>192.2335</td></tr>\n",
       "\t<tr><td>A</td><td>67.27809</td><td>200.6200</td></tr>\n",
       "\t<tr><td>A</td><td>70.55461</td><td>198.6256</td></tr>\n",
       "\t<tr><td>A</td><td>64.24503</td><td>163.2156</td></tr>\n",
       "\t<tr><td>A</td><td>71.87849</td><td>173.8158</td></tr>\n",
       "\t<tr><td>A</td><td>66.99681</td><td>186.6253</td></tr>\n",
       "\t<tr><td>A</td><td>68.54153</td><td>199.5109</td></tr>\n",
       "\t<tr><td>⋮</td><td>⋮</td><td>⋮</td></tr>\n",
       "\t<tr><td>C</td><td>83.95516</td><td>225.0099</td></tr>\n",
       "\t<tr><td>C</td><td>75.45306</td><td>226.9290</td></tr>\n",
       "\t<tr><td>C</td><td>87.01397</td><td>206.3995</td></tr>\n",
       "\t<tr><td>C</td><td>72.99074</td><td>224.6451</td></tr>\n",
       "\t<tr><td>C</td><td>82.93429</td><td>225.8614</td></tr>\n",
       "\t<tr><td>C</td><td>90.95228</td><td>205.7130</td></tr>\n",
       "\t<tr><td>C</td><td>75.04732</td><td>257.3155</td></tr>\n",
       "\t<tr><td>C</td><td>77.16851</td><td>229.4767</td></tr>\n",
       "\t<tr><td>C</td><td>80.49826</td><td>196.1739</td></tr>\n",
       "\t<tr><td>C</td><td>77.48262</td><td>233.1311</td></tr>\n",
       "\t<tr><td>C</td><td>72.24668</td><td>200.5064</td></tr>\n",
       "\t<tr><td>C</td><td>80.34281</td><td>235.7417</td></tr>\n",
       "\t<tr><td>C</td><td>74.68848</td><td>243.1719</td></tr>\n",
       "\t<tr><td>C</td><td>82.36796</td><td>203.5864</td></tr>\n",
       "\t<tr><td>C</td><td>75.40288</td><td>239.2675</td></tr>\n",
       "\t<tr><td>C</td><td>87.74967</td><td>228.2556</td></tr>\n",
       "\t<tr><td>C</td><td>76.08373</td><td>236.4412</td></tr>\n",
       "\t<tr><td>C</td><td>78.38969</td><td>257.9359</td></tr>\n",
       "\t<tr><td>C</td><td>84.06759</td><td>215.0922</td></tr>\n",
       "\t<tr><td>C</td><td>73.84568</td><td>204.9253</td></tr>\n",
       "\t<tr><td>C</td><td>81.13730</td><td>202.2097</td></tr>\n",
       "\t<tr><td>C</td><td>86.53571</td><td>203.6838</td></tr>\n",
       "\t<tr><td>C</td><td>71.96258</td><td>218.4580</td></tr>\n",
       "\t<tr><td>C</td><td>80.92317</td><td>226.8230</td></tr>\n",
       "\t<tr><td>C</td><td>81.29941</td><td>225.5338</td></tr>\n",
       "\t<tr><td>C</td><td>83.90911</td><td>236.5437</td></tr>\n",
       "\t<tr><td>C</td><td>73.81525</td><td>220.2600</td></tr>\n",
       "\t<tr><td>C</td><td>73.39772</td><td>249.0707</td></tr>\n",
       "\t<tr><td>C</td><td>82.60971</td><td>214.7069</td></tr>\n",
       "\t<tr><td>C</td><td>81.48492</td><td>274.4034</td></tr>\n",
       "</tbody>\n",
       "</table>\n"
      ],
      "text/latex": [
       "A data.frame: 90 × 3\n",
       "\\begin{tabular}{lll}\n",
       " Dieta & Peso & Colesterol\\\\\n",
       " <chr> & <dbl> & <dbl>\\\\\n",
       "\\hline\n",
       "\t A & 72.48357 & 167.9659\\\\\n",
       "\t A & 69.30868 & 217.0456\\\\\n",
       "\t A & 73.23844 & 179.7301\\\\\n",
       "\t A & 77.61515 & 158.8458\\\\\n",
       "\t A & 68.82923 & 196.4509\\\\\n",
       "\t A & 68.82932 & 155.5831\\\\\n",
       "\t A & 77.89606 & 184.1773\\\\\n",
       "\t A & 73.83717 & 140.8066\\\\\n",
       "\t A & 67.65263 & 153.4363\\\\\n",
       "\t A & 72.71280 & 183.9372\\\\\n",
       "\t A & 67.68291 & 194.7693\\\\\n",
       "\t A & 67.67135 & 183.4274\\\\\n",
       "\t A & 71.20981 & 177.6870\\\\\n",
       "\t A & 60.43360 & 173.9779\\\\\n",
       "\t A & 61.37541 & 150.4296\\\\\n",
       "\t A & 67.18856 & 165.6031\\\\\n",
       "\t A & 64.93584 & 170.7872\\\\\n",
       "\t A & 71.57124 & 201.1424\\\\\n",
       "\t A & 65.45988 & 186.8724\\\\\n",
       "\t A & 62.93848 & 144.7392\\\\\n",
       "\t A & 77.32824 & 186.4817\\\\\n",
       "\t A & 68.87112 & 172.2984\\\\\n",
       "\t A & 70.33764 & 166.4616\\\\\n",
       "\t A & 62.87626 & 192.2335\\\\\n",
       "\t A & 67.27809 & 200.6200\\\\\n",
       "\t A & 70.55461 & 198.6256\\\\\n",
       "\t A & 64.24503 & 163.2156\\\\\n",
       "\t A & 71.87849 & 173.8158\\\\\n",
       "\t A & 66.99681 & 186.6253\\\\\n",
       "\t A & 68.54153 & 199.5109\\\\\n",
       "\t ⋮ & ⋮ & ⋮\\\\\n",
       "\t C & 83.95516 & 225.0099\\\\\n",
       "\t C & 75.45306 & 226.9290\\\\\n",
       "\t C & 87.01397 & 206.3995\\\\\n",
       "\t C & 72.99074 & 224.6451\\\\\n",
       "\t C & 82.93429 & 225.8614\\\\\n",
       "\t C & 90.95228 & 205.7130\\\\\n",
       "\t C & 75.04732 & 257.3155\\\\\n",
       "\t C & 77.16851 & 229.4767\\\\\n",
       "\t C & 80.49826 & 196.1739\\\\\n",
       "\t C & 77.48262 & 233.1311\\\\\n",
       "\t C & 72.24668 & 200.5064\\\\\n",
       "\t C & 80.34281 & 235.7417\\\\\n",
       "\t C & 74.68848 & 243.1719\\\\\n",
       "\t C & 82.36796 & 203.5864\\\\\n",
       "\t C & 75.40288 & 239.2675\\\\\n",
       "\t C & 87.74967 & 228.2556\\\\\n",
       "\t C & 76.08373 & 236.4412\\\\\n",
       "\t C & 78.38969 & 257.9359\\\\\n",
       "\t C & 84.06759 & 215.0922\\\\\n",
       "\t C & 73.84568 & 204.9253\\\\\n",
       "\t C & 81.13730 & 202.2097\\\\\n",
       "\t C & 86.53571 & 203.6838\\\\\n",
       "\t C & 71.96258 & 218.4580\\\\\n",
       "\t C & 80.92317 & 226.8230\\\\\n",
       "\t C & 81.29941 & 225.5338\\\\\n",
       "\t C & 83.90911 & 236.5437\\\\\n",
       "\t C & 73.81525 & 220.2600\\\\\n",
       "\t C & 73.39772 & 249.0707\\\\\n",
       "\t C & 82.60971 & 214.7069\\\\\n",
       "\t C & 81.48492 & 274.4034\\\\\n",
       "\\end{tabular}\n"
      ],
      "text/markdown": [
       "\n",
       "A data.frame: 90 × 3\n",
       "\n",
       "| Dieta &lt;chr&gt; | Peso &lt;dbl&gt; | Colesterol &lt;dbl&gt; |\n",
       "|---|---|---|\n",
       "| A | 72.48357 | 167.9659 |\n",
       "| A | 69.30868 | 217.0456 |\n",
       "| A | 73.23844 | 179.7301 |\n",
       "| A | 77.61515 | 158.8458 |\n",
       "| A | 68.82923 | 196.4509 |\n",
       "| A | 68.82932 | 155.5831 |\n",
       "| A | 77.89606 | 184.1773 |\n",
       "| A | 73.83717 | 140.8066 |\n",
       "| A | 67.65263 | 153.4363 |\n",
       "| A | 72.71280 | 183.9372 |\n",
       "| A | 67.68291 | 194.7693 |\n",
       "| A | 67.67135 | 183.4274 |\n",
       "| A | 71.20981 | 177.6870 |\n",
       "| A | 60.43360 | 173.9779 |\n",
       "| A | 61.37541 | 150.4296 |\n",
       "| A | 67.18856 | 165.6031 |\n",
       "| A | 64.93584 | 170.7872 |\n",
       "| A | 71.57124 | 201.1424 |\n",
       "| A | 65.45988 | 186.8724 |\n",
       "| A | 62.93848 | 144.7392 |\n",
       "| A | 77.32824 | 186.4817 |\n",
       "| A | 68.87112 | 172.2984 |\n",
       "| A | 70.33764 | 166.4616 |\n",
       "| A | 62.87626 | 192.2335 |\n",
       "| A | 67.27809 | 200.6200 |\n",
       "| A | 70.55461 | 198.6256 |\n",
       "| A | 64.24503 | 163.2156 |\n",
       "| A | 71.87849 | 173.8158 |\n",
       "| A | 66.99681 | 186.6253 |\n",
       "| A | 68.54153 | 199.5109 |\n",
       "| ⋮ | ⋮ | ⋮ |\n",
       "| C | 83.95516 | 225.0099 |\n",
       "| C | 75.45306 | 226.9290 |\n",
       "| C | 87.01397 | 206.3995 |\n",
       "| C | 72.99074 | 224.6451 |\n",
       "| C | 82.93429 | 225.8614 |\n",
       "| C | 90.95228 | 205.7130 |\n",
       "| C | 75.04732 | 257.3155 |\n",
       "| C | 77.16851 | 229.4767 |\n",
       "| C | 80.49826 | 196.1739 |\n",
       "| C | 77.48262 | 233.1311 |\n",
       "| C | 72.24668 | 200.5064 |\n",
       "| C | 80.34281 | 235.7417 |\n",
       "| C | 74.68848 | 243.1719 |\n",
       "| C | 82.36796 | 203.5864 |\n",
       "| C | 75.40288 | 239.2675 |\n",
       "| C | 87.74967 | 228.2556 |\n",
       "| C | 76.08373 | 236.4412 |\n",
       "| C | 78.38969 | 257.9359 |\n",
       "| C | 84.06759 | 215.0922 |\n",
       "| C | 73.84568 | 204.9253 |\n",
       "| C | 81.13730 | 202.2097 |\n",
       "| C | 86.53571 | 203.6838 |\n",
       "| C | 71.96258 | 218.4580 |\n",
       "| C | 80.92317 | 226.8230 |\n",
       "| C | 81.29941 | 225.5338 |\n",
       "| C | 83.90911 | 236.5437 |\n",
       "| C | 73.81525 | 220.2600 |\n",
       "| C | 73.39772 | 249.0707 |\n",
       "| C | 82.60971 | 214.7069 |\n",
       "| C | 81.48492 | 274.4034 |\n",
       "\n"
      ],
      "text/plain": [
       "   Dieta Peso     Colesterol\n",
       "1  A     72.48357 167.9659  \n",
       "2  A     69.30868 217.0456  \n",
       "3  A     73.23844 179.7301  \n",
       "4  A     77.61515 158.8458  \n",
       "5  A     68.82923 196.4509  \n",
       "6  A     68.82932 155.5831  \n",
       "7  A     77.89606 184.1773  \n",
       "8  A     73.83717 140.8066  \n",
       "9  A     67.65263 153.4363  \n",
       "10 A     72.71280 183.9372  \n",
       "11 A     67.68291 194.7693  \n",
       "12 A     67.67135 183.4274  \n",
       "13 A     71.20981 177.6870  \n",
       "14 A     60.43360 173.9779  \n",
       "15 A     61.37541 150.4296  \n",
       "16 A     67.18856 165.6031  \n",
       "17 A     64.93584 170.7872  \n",
       "18 A     71.57124 201.1424  \n",
       "19 A     65.45988 186.8724  \n",
       "20 A     62.93848 144.7392  \n",
       "21 A     77.32824 186.4817  \n",
       "22 A     68.87112 172.2984  \n",
       "23 A     70.33764 166.4616  \n",
       "24 A     62.87626 192.2335  \n",
       "25 A     67.27809 200.6200  \n",
       "26 A     70.55461 198.6256  \n",
       "27 A     64.24503 163.2156  \n",
       "28 A     71.87849 173.8158  \n",
       "29 A     66.99681 186.6253  \n",
       "30 A     68.54153 199.5109  \n",
       "⋮  ⋮     ⋮        ⋮         \n",
       "61 C     83.95516 225.0099  \n",
       "62 C     75.45306 226.9290  \n",
       "63 C     87.01397 206.3995  \n",
       "64 C     72.99074 224.6451  \n",
       "65 C     82.93429 225.8614  \n",
       "66 C     90.95228 205.7130  \n",
       "67 C     75.04732 257.3155  \n",
       "68 C     77.16851 229.4767  \n",
       "69 C     80.49826 196.1739  \n",
       "70 C     77.48262 233.1311  \n",
       "71 C     72.24668 200.5064  \n",
       "72 C     80.34281 235.7417  \n",
       "73 C     74.68848 243.1719  \n",
       "74 C     82.36796 203.5864  \n",
       "75 C     75.40288 239.2675  \n",
       "76 C     87.74967 228.2556  \n",
       "77 C     76.08373 236.4412  \n",
       "78 C     78.38969 257.9359  \n",
       "79 C     84.06759 215.0922  \n",
       "80 C     73.84568 204.9253  \n",
       "81 C     81.13730 202.2097  \n",
       "82 C     86.53571 203.6838  \n",
       "83 C     71.96258 218.4580  \n",
       "84 C     80.92317 226.8230  \n",
       "85 C     81.29941 225.5338  \n",
       "86 C     83.90911 236.5437  \n",
       "87 C     73.81525 220.2600  \n",
       "88 C     73.39772 249.0707  \n",
       "89 C     82.60971 214.7069  \n",
       "90 C     81.48492 274.4034  "
      ]
     },
     "metadata": {},
     "output_type": "display_data"
    }
   ],
   "source": [
    "# Crear un dataframe en R\n",
    "datos <- data.frame(\n",
    "  Dieta = c(rep(\"A\", 30), rep(\"B\", 30), rep(\"C\", 30)),\n",
    "  Peso = c(72.48357077, 69.30867849, 73.23844269, 77.61514928, 68.82923313, \n",
    "           68.82931522, 77.89606408, 73.83717365, 67.65262807, 72.71280022,\n",
    "           67.68291154, 67.67135123, 71.20981136, 60.43359878, 61.37541084,\n",
    "           67.18856235, 64.9358444, 71.57123666, 65.45987962, 62.93848149,\n",
    "           77.32824384, 68.8711185, 70.33764102, 62.87625907, 67.27808638,\n",
    "           70.55461295, 64.24503211, 71.87849009, 66.99680655, 68.54153125,\n",
    "           72.60412881, 74.07170512, 69.46832513, 69.01896688, 79.06262911, \n",
    "           81.78120014, 74.63994939, 80.01766449, 76.80818013, 71.77440123,\n",
    "           76.80697803, 82.69018283, 74.8208698, 82.82321828, 61.90127448, \n",
    "           79.10951252, 75.43523534, 73.50496325, 75.45880388, 65.06215543,\n",
    "           73.90164056, 76.78556286, 82.38947022, 72.40864891, 70.95753199,\n",
    "           72.49121478, 79.57701059, 76.64375555, 72.35119898, 77.56633717,\n",
    "           83.95515974, 75.45306273, 87.01397155, 72.99074469, 82.93428547, \n",
    "           90.95227813, 75.04731837, 77.16851135, 80.49825683, 77.48262173, \n",
    "           72.24668284, 80.34281487, 74.68848143, 82.36796215, 75.40287883, \n",
    "           87.74967203, 76.08373354, 78.38969242, 84.06758609, 73.84567842, \n",
    "           81.13729967, 86.53571377, 71.96258383, 80.92316929, 81.29941397, \n",
    "           83.90911436, 73.81524645, 73.39771693, 82.60970783, 81.48492337),\n",
    "  Colesterol = c(167.9658678, 217.0455637, 179.7300555, 158.8457814, 196.4508982, \n",
    "                 155.583127, 184.1772719, 140.8065975, 153.436279, 183.9372247, \n",
    "                 194.7693316, 183.4273656, 177.6870344, 173.9779261, 150.4295602, \n",
    "                 165.6031158, 170.7872246, 201.1424445, 186.8723658, 144.7391969, \n",
    "                 186.4816794, 172.2983544, 166.46156, 192.2335258, 200.6199904, \n",
    "                 198.6256024, 163.2156495, 173.8157525, 186.6252686, 199.5109025, \n",
    "                 201.941551, 219.3728998, 185.9589381, 193.4467571, 192.1578369, \n",
    "                 170.729701, 205.9224055, 205.2211054, 200.1022691, 195.3082573, \n",
    "                 171.6925852, 191.5870935, 193.1457097, 183.9544546, 196.7742858, \n",
    "                 208.0810171, 237.723718, 203.4915563, 205.1510078, 198.5110817, \n",
    "                 161.6245757, 199.4697225, 201.2046042, 249.2648422, 196.1527807, \n",
    "                 206.0309468, 199.3057646, 176.6264392, 222.8564563, 215.0386607, \n",
    "                 225.009857, 226.9289642, 206.3995056, 224.6450739, 225.8614495, \n",
    "                 205.7129716, 257.3154902, 229.4766584, 196.1739301, 233.1310722, \n",
    "                 200.5063666, 235.7416921, 243.1719116, 203.5863536, 239.2675226, \n",
    "                 228.2556185, 236.4412032, 257.9358597, 215.0922377, 204.9252767, \n",
    "                 202.2097114, 203.6837943, 218.4579658, 226.8230395, 225.533816, \n",
    "                 236.543665, 220.2600378, 249.0706815, 214.7068633, 274.4033833)\n",
    ")\n",
    "datos"
   ]
  },
  {
   "cell_type": "markdown",
   "metadata": {},
   "source": [
    "---\n",
    "\n",
    "#### 🔍 5) ¿Cómo se evalúa MANOVA?  \n",
    "\n",
    "A diferencia del ANOVA, MANOVA no usa solo el estadístico **F**, sino que se basa en cuatro pruebas estadísticas para evaluar la significancia global:  \n",
    "\n",
    "1️⃣ **Lambda de Wilks (Λ)**  \n",
    "   - Evalúa la variabilidad dentro de los grupos frente a la variabilidad total.  \n",
    "   - Cuanto menor sea **Λ**, mayor es la diferencia entre grupos.  \n",
    "\n",
    "2️⃣ **Traza de Pillai**  \n",
    "   - Similar a **Λ**, pero más robusta cuando los supuestos no se cumplen.  \n",
    "\n",
    "3️⃣ **Criterio de Hotelling-Lawley**  \n",
    "   - Se usa cuando hay solo dos grupos de comparación.  \n",
    "\n",
    "4️⃣ **Raíz mayor de Roy**  \n",
    "   - Se enfoca en la máxima diferencia entre grupos y es menos utilizada.  \n",
    "\n",
    "📌 **Interpretación:**  \n",
    "Si alguna de estas pruebas resulta **estadísticamente significativa** (*p* < 0.05), indica que hay diferencias significativas entre los grupos en al menos una de las variables dependientes.  \n"
   ]
  },
  {
   "cell_type": "code",
   "execution_count": 3,
   "metadata": {
    "vscode": {
     "languageId": "r"
    }
   },
   "outputs": [
    {
     "data": {
      "text/plain": [
       "Call:\n",
       "   manova(cbind(Peso, Colesterol) ~ Dieta, data = datos)\n",
       "\n",
       "Terms:\n",
       "                   Dieta Residuals\n",
       "Peso             1654.97   2061.14\n",
       "Colesterol      34637.04  30048.77\n",
       "Deg. of Freedom        2        87\n",
       "\n",
       "Residual standard errors: 4.867363 18.58462\n",
       "Estimated effects may be unbalanced"
      ]
     },
     "metadata": {},
     "output_type": "display_data"
    }
   ],
   "source": [
    "# Aplicar MANOVA\n",
    "modelo <- manova(cbind(Peso, Colesterol) ~ Dieta, data = datos)\n",
    "modelo"
   ]
  },
  {
   "cell_type": "code",
   "execution_count": 4,
   "metadata": {
    "vscode": {
     "languageId": "r"
    }
   },
   "outputs": [
    {
     "data": {
      "text/plain": [
       "          Df  Pillai approx F num Df den Df    Pr(>F)    \n",
       "Dieta      2 0.69249   23.039      4    174 2.717e-15 ***\n",
       "Residuals 87                                             \n",
       "---\n",
       "Signif. codes:  0 '***' 0.001 '**' 0.01 '*' 0.05 '.' 0.1 ' ' 1"
      ]
     },
     "metadata": {},
     "output_type": "display_data"
    }
   ],
   "source": [
    "# Ver resultados\n",
    "summary(modelo)"
   ]
  },
  {
   "cell_type": "markdown",
   "metadata": {},
   "source": [
    "### 🔹 Lambda de Wilks (Λ)  \n",
    "\n",
    "Mide la variabilidad dentro de los grupos en comparación con la variabilidad total.  \n",
    "\n",
    "📌 **Interpretación:**  \n",
    "- **Valores bajos** de **Λ** indican diferencias significativas entre los grupos.  \n",
    "- Si el valor **p asociado** es menor a **0.05**, existen diferencias significativas entre los grupos.  \n",
    "\n"
   ]
  },
  {
   "cell_type": "code",
   "execution_count": 5,
   "metadata": {
    "vscode": {
     "languageId": "r"
    }
   },
   "outputs": [
    {
     "data": {
      "text/plain": [
       "          Df   Wilks approx F num Df den Df    Pr(>F)    \n",
       "Dieta      2 0.31262   33.906      4    172 < 2.2e-16 ***\n",
       "Residuals 87                                             \n",
       "---\n",
       "Signif. codes:  0 '***' 0.001 '**' 0.01 '*' 0.05 '.' 0.1 ' ' 1"
      ]
     },
     "metadata": {},
     "output_type": "display_data"
    }
   ],
   "source": [
    "summary(modelo, test = \"Wilks\")  # Wilks’ Lambda\n"
   ]
  },
  {
   "cell_type": "markdown",
   "metadata": {},
   "source": [
    "### 🔹 Traza de Pillai  \n",
    "\n",
    "Se interpreta de manera similar a **Lambda de Wilks**.  \n",
    "\n",
    "📌 **Características:**  \n",
    "- Más **robusta** cuando los supuestos de MANOVA no se cumplen.  \n",
    "- Evalúa la proporción de la varianza explicada por las diferencias entre grupos.  \n",
    "- Valores **altos** indican diferencias significativas entre los grupos.  \n",
    "\n"
   ]
  },
  {
   "cell_type": "code",
   "execution_count": 6,
   "metadata": {
    "vscode": {
     "languageId": "r"
    }
   },
   "outputs": [
    {
     "data": {
      "text/plain": [
       "          Df  Pillai approx F num Df den Df    Pr(>F)    \n",
       "Dieta      2 0.69249   23.039      4    174 2.717e-15 ***\n",
       "Residuals 87                                             \n",
       "---\n",
       "Signif. codes:  0 '***' 0.001 '**' 0.01 '*' 0.05 '.' 0.1 ' ' 1"
      ]
     },
     "metadata": {},
     "output_type": "display_data"
    }
   ],
   "source": [
    "summary(modelo, test = \"Pillai\")  # Pillai’s Trace"
   ]
  },
  {
   "cell_type": "markdown",
   "metadata": {},
   "source": [
    "### 🔹 Criterio de Hotelling-Lawley:\n",
    "\n",
    "Se interpreta de manera similar a **Lambda de Wilks**.  "
   ]
  },
  {
   "cell_type": "code",
   "execution_count": 7,
   "metadata": {
    "vscode": {
     "languageId": "r"
    }
   },
   "outputs": [
    {
     "data": {
      "text/plain": [
       "          Df Hotelling-Lawley approx F num Df den Df    Pr(>F)    \n",
       "Dieta      2           2.1824   46.376      4    170 < 2.2e-16 ***\n",
       "Residuals 87                                                      \n",
       "---\n",
       "Signif. codes:  0 '***' 0.001 '**' 0.01 '*' 0.05 '.' 0.1 ' ' 1"
      ]
     },
     "metadata": {},
     "output_type": "display_data"
    }
   ],
   "source": [
    "summary(modelo, test = \"Hotelling-Lawley\")  # Hotelling-Lawley Trace"
   ]
  },
  {
   "cell_type": "markdown",
   "metadata": {},
   "source": [
    "### 🔹 Raíz mayor de Roy:\n",
    "\n",
    "Se centra en la máxima diferencia entre grupos.\n",
    "Es menos utilizada, pero confirma los resultados obtenidos en las otras pruebas."
   ]
  },
  {
   "cell_type": "code",
   "execution_count": 8,
   "metadata": {
    "vscode": {
     "languageId": "r"
    }
   },
   "outputs": [
    {
     "data": {
      "text/plain": [
       "          Df    Roy approx F num Df den Df    Pr(>F)    \n",
       "Dieta      2 2.1749   94.606      2     87 < 2.2e-16 ***\n",
       "Residuals 87                                            \n",
       "---\n",
       "Signif. codes:  0 '***' 0.001 '**' 0.01 '*' 0.05 '.' 0.1 ' ' 1"
      ]
     },
     "metadata": {},
     "output_type": "display_data"
    }
   ],
   "source": [
    "summary(modelo, test = \"Roy\")  # Roy’s Largest Root"
   ]
  },
  {
   "cell_type": "markdown",
   "metadata": {},
   "source": [
    "### 🔹 Al evaluar las pruebas estadísticas generadas en el análisis, encontramos:\n",
    "\n",
    "- **Lambda de Wilks (Λ):** p < 0.05 → **Significativo** ✅\n",
    "- **Traza de Pillai:** p < 0.05 → **Significativo** ✅\n",
    "- **Criterio de Hotelling-Lawley:** p < 0.05 → **Significativo** ✅\n",
    "- **Raíz mayor de Roy:** p < 0.05 → **Significativo** ✅\n"
   ]
  },
  {
   "cell_type": "markdown",
   "metadata": {},
   "source": [
    "#### **Conclusión:**\n",
    "\n",
    "Dado que todas las pruebas indican significancia estadística, podemos **rechazar la hipótesis nula (H₀)** ❌, concluyendo que existen **diferencias significativas** entre los grupos de dieta en al menos una de las variables dependientes (peso y/o colesterol) 📊.\n"
   ]
  }
 ],
 "metadata": {
  "kernelspec": {
   "display_name": "R",
   "language": "R",
   "name": "ir"
  },
  "language_info": {
   "codemirror_mode": "r",
   "file_extension": ".r",
   "mimetype": "text/x-r-source",
   "name": "R",
   "pygments_lexer": "r",
   "version": "4.4.0"
  }
 },
 "nbformat": 4,
 "nbformat_minor": 2
}
